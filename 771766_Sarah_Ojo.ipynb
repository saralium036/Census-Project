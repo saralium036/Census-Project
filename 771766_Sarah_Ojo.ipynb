{
 "cells": [
  {
   "attachments": {},
   "cell_type": "markdown",
   "id": "12fe2163",
   "metadata": {},
   "source": [
    "# Census Analysis\n",
    "\n",
    "Submitted by Sarah Ojo\n",
    "\n",
    "The data is the census data of an average sized town situated between large cities. The town is accessible by motorways that linked it to the cities.  \n",
    "The aim of the report is to use the insights from the census data to assist the local government to decide on the infrastructure and investment based on the needs of the community.  \n"
   ]
  },
  {
   "cell_type": "code",
   "execution_count": 1,
   "id": "0aaa5049",
   "metadata": {},
   "outputs": [],
   "source": [
    "# I will import all necessary libraries\n",
    "import pandas as pd               \n",
    "import seaborn as sns              \n",
    "import matplotlib  as plt         \n",
    "import numpy as np\n",
    "%matplotlib inline"
   ]
  },
  {
   "cell_type": "code",
   "execution_count": 2,
   "id": "8f5b826a",
   "metadata": {},
   "outputs": [],
   "source": [
    "sd = pd.read_csv('census18.csv') #read in my data from the same folder and assign it to variable sd for sarah's data\n"
   ]
  },
  {
   "cell_type": "code",
   "execution_count": 3,
   "id": "c2c583fc",
   "metadata": {},
   "outputs": [
    {
     "data": {
      "text/html": [
       "<div>\n",
       "<style scoped>\n",
       "    .dataframe tbody tr th:only-of-type {\n",
       "        vertical-align: middle;\n",
       "    }\n",
       "\n",
       "    .dataframe tbody tr th {\n",
       "        vertical-align: top;\n",
       "    }\n",
       "\n",
       "    .dataframe thead th {\n",
       "        text-align: right;\n",
       "    }\n",
       "</style>\n",
       "<table border=\"1\" class=\"dataframe\">\n",
       "  <thead>\n",
       "    <tr style=\"text-align: right;\">\n",
       "      <th></th>\n",
       "      <th>House Number</th>\n",
       "      <th>Street</th>\n",
       "      <th>First Name</th>\n",
       "      <th>Surname</th>\n",
       "      <th>Age</th>\n",
       "      <th>Relationship to Head of House</th>\n",
       "      <th>Marital Status</th>\n",
       "      <th>Gender</th>\n",
       "      <th>Occupation</th>\n",
       "      <th>Infirmity</th>\n",
       "      <th>Religion</th>\n",
       "    </tr>\n",
       "  </thead>\n",
       "  <tbody>\n",
       "    <tr>\n",
       "      <th>0</th>\n",
       "      <td>1</td>\n",
       "      <td>Bulldog Crescent</td>\n",
       "      <td>Harry</td>\n",
       "      <td>Baldwin</td>\n",
       "      <td>36.0</td>\n",
       "      <td>Head</td>\n",
       "      <td>Married</td>\n",
       "      <td>Male</td>\n",
       "      <td>Education administrator</td>\n",
       "      <td>None</td>\n",
       "      <td>None</td>\n",
       "    </tr>\n",
       "    <tr>\n",
       "      <th>1</th>\n",
       "      <td>1</td>\n",
       "      <td>Bulldog Crescent</td>\n",
       "      <td>Heather</td>\n",
       "      <td>Baldwin</td>\n",
       "      <td>30.0</td>\n",
       "      <td>Wife</td>\n",
       "      <td>Married</td>\n",
       "      <td>Female</td>\n",
       "      <td>Purchasing manager</td>\n",
       "      <td>None</td>\n",
       "      <td>None</td>\n",
       "    </tr>\n",
       "    <tr>\n",
       "      <th>2</th>\n",
       "      <td>1</td>\n",
       "      <td>Bulldog Crescent</td>\n",
       "      <td>Katy</td>\n",
       "      <td>Baldwin</td>\n",
       "      <td>0.0</td>\n",
       "      <td>Daughter</td>\n",
       "      <td>NaN</td>\n",
       "      <td>Female</td>\n",
       "      <td>Child</td>\n",
       "      <td>None</td>\n",
       "      <td>NaN</td>\n",
       "    </tr>\n",
       "    <tr>\n",
       "      <th>3</th>\n",
       "      <td>1</td>\n",
       "      <td>Bulldog Crescent</td>\n",
       "      <td>Philip</td>\n",
       "      <td>Giles</td>\n",
       "      <td>40.0</td>\n",
       "      <td>Lodger</td>\n",
       "      <td>Divorced</td>\n",
       "      <td>Male</td>\n",
       "      <td>Manufacturing engineer</td>\n",
       "      <td>None</td>\n",
       "      <td>None</td>\n",
       "    </tr>\n",
       "    <tr>\n",
       "      <th>4</th>\n",
       "      <td>1</td>\n",
       "      <td>Bulldog Crescent</td>\n",
       "      <td>Shannon</td>\n",
       "      <td>Allen</td>\n",
       "      <td>31.0</td>\n",
       "      <td>Lodger</td>\n",
       "      <td>Single</td>\n",
       "      <td>Female</td>\n",
       "      <td>Restaurant manager</td>\n",
       "      <td>None</td>\n",
       "      <td>Catholic</td>\n",
       "    </tr>\n",
       "  </tbody>\n",
       "</table>\n",
       "</div>"
      ],
      "text/plain": [
       "   House Number            Street First Name  Surname   Age  \\\n",
       "0             1  Bulldog Crescent      Harry  Baldwin  36.0   \n",
       "1             1  Bulldog Crescent    Heather  Baldwin  30.0   \n",
       "2             1  Bulldog Crescent       Katy  Baldwin   0.0   \n",
       "3             1  Bulldog Crescent     Philip    Giles  40.0   \n",
       "4             1  Bulldog Crescent    Shannon    Allen  31.0   \n",
       "\n",
       "  Relationship to Head of House Marital Status  Gender  \\\n",
       "0                          Head        Married    Male   \n",
       "1                          Wife        Married  Female   \n",
       "2                      Daughter            NaN  Female   \n",
       "3                        Lodger       Divorced    Male   \n",
       "4                        Lodger         Single  Female   \n",
       "\n",
       "                Occupation Infirmity  Religion  \n",
       "0  Education administrator      None      None  \n",
       "1       Purchasing manager      None      None  \n",
       "2                    Child      None       NaN  \n",
       "3   Manufacturing engineer      None      None  \n",
       "4       Restaurant manager      None  Catholic  "
      ]
     },
     "execution_count": 3,
     "metadata": {},
     "output_type": "execute_result"
    }
   ],
   "source": [
    "sd.head()    # to have an overview of the data structure"
   ]
  },
  {
   "cell_type": "code",
   "execution_count": 4,
   "id": "63ccb057",
   "metadata": {
    "scrolled": true
   },
   "outputs": [
    {
     "name": "stdout",
     "output_type": "stream",
     "text": [
      "<class 'pandas.core.frame.DataFrame'>\n",
      "RangeIndex: 9426 entries, 0 to 9425\n",
      "Data columns (total 11 columns):\n",
      " #   Column                         Non-Null Count  Dtype  \n",
      "---  ------                         --------------  -----  \n",
      " 0   House Number                   9426 non-null   int64  \n",
      " 1   Street                         9426 non-null   object \n",
      " 2   First Name                     9426 non-null   object \n",
      " 3   Surname                        9426 non-null   object \n",
      " 4   Age                            9426 non-null   float64\n",
      " 5   Relationship to Head of House  9426 non-null   object \n",
      " 6   Marital Status                 6996 non-null   object \n",
      " 7   Gender                         9426 non-null   object \n",
      " 8   Occupation                     9426 non-null   object \n",
      " 9   Infirmity                      9426 non-null   object \n",
      " 10  Religion                       6937 non-null   object \n",
      "dtypes: float64(1), int64(1), object(9)\n",
      "memory usage: 810.2+ KB\n",
      "None\n"
     ]
    }
   ],
   "source": [
    "print(sd.info()) # An overview of the data\n",
    "\n",
    "#Issues highlighted\n",
    "\n",
    "# 1 Age column is float\n",
    "# 2 Null entries in Religion and Marital Status"
   ]
  },
  {
   "cell_type": "markdown",
   "id": "cd5738ea",
   "metadata": {},
   "source": [
    "I will check each relevant columns to have a view of the unique entries to better understand the data"
   ]
  },
  {
   "cell_type": "code",
   "execution_count": 5,
   "id": "e770cb16",
   "metadata": {},
   "outputs": [
    {
     "data": {
      "text/plain": [
       "array(['Married', nan, 'Divorced', 'Single', 'Widowed', ' '], dtype=object)"
      ]
     },
     "execution_count": 5,
     "metadata": {},
     "output_type": "execute_result"
    }
   ],
   "source": [
    "sd['Marital Status'].unique() #I can see nan enties and empty string"
   ]
  },
  {
   "cell_type": "code",
   "execution_count": 6,
   "id": "56434ca3",
   "metadata": {},
   "outputs": [
    {
     "data": {
      "text/plain": [
       "array(['None', nan, 'Catholic', 'Methodist', 'Christian', 'Muslim',\n",
       "       'Private', 'Jewish', 'Sikh', 'Nope', 'Buddist', 'Baptist', 'Sith',\n",
       "       'Bahai', 'Agnostic', 'Orthodoxy', ' '], dtype=object)"
      ]
     },
     "execution_count": 6,
     "metadata": {},
     "output_type": "execute_result"
    }
   ],
   "source": [
    "sd['Religion'].unique() # here there is nan, Nope, empty string"
   ]
  },
  {
   "cell_type": "code",
   "execution_count": 7,
   "id": "089304e5",
   "metadata": {},
   "outputs": [
    {
     "data": {
      "text/plain": [
       "array(['Head', 'Wife', 'Daughter', 'Lodger', 'Husband', 'Sibling', 'Son',\n",
       "       'None', 'Grandson', 'Partner', 'Adopted Son', 'Visitor',\n",
       "       'Granddaughter', 'Adopted Daughter', 'Cousin', 'Nephew', 'Neice',\n",
       "       'Step-Son', 'Step-Daughter', 'Son-in-law', 'Adopted Granddaughter',\n",
       "       'Adopted Grandson'], dtype=object)"
      ]
     },
     "execution_count": 7,
     "metadata": {},
     "output_type": "execute_result"
    }
   ],
   "source": [
    "sd['Relationship to Head of House'].unique() # looks good"
   ]
  },
  {
   "cell_type": "code",
   "execution_count": 8,
   "id": "81b17826",
   "metadata": {},
   "outputs": [
    {
     "data": {
      "text/plain": [
       "array(['Male', 'Female'], dtype=object)"
      ]
     },
     "execution_count": 8,
     "metadata": {},
     "output_type": "execute_result"
    }
   ],
   "source": [
    "sd['Gender'].unique() # looks good"
   ]
  },
  {
   "cell_type": "code",
   "execution_count": 9,
   "id": "7dd137ee",
   "metadata": {},
   "outputs": [
    {
     "data": {
      "text/plain": [
       "1080"
      ]
     },
     "execution_count": 9,
     "metadata": {},
     "output_type": "execute_result"
    }
   ],
   "source": [
    "sd['Occupation'].unique() # I can see a lot of entries\n",
    "\n",
    "sd['Occupation'].nunique() # to know how many entries are there"
   ]
  },
  {
   "cell_type": "code",
   "execution_count": 10,
   "id": "c082e008",
   "metadata": {},
   "outputs": [
    {
     "data": {
      "text/plain": [
       "array(['None', 'Disabled', 'Mental Disability', 'Unknown Infection',\n",
       "       'Physical Disability', ' ', 'Blind', 'Deaf'], dtype=object)"
      ]
     },
     "execution_count": 10,
     "metadata": {},
     "output_type": "execute_result"
    }
   ],
   "source": [
    "sd['Infirmity'].unique() # there is an empty entry"
   ]
  },
  {
   "cell_type": "code",
   "execution_count": 11,
   "id": "68760d0c",
   "metadata": {
    "scrolled": true
   },
   "outputs": [
    {
     "data": {
      "text/plain": [
       "House Number                        0\n",
       "Street                              0\n",
       "First Name                          0\n",
       "Surname                             0\n",
       "Age                                 0\n",
       "Relationship to Head of House       0\n",
       "Marital Status                   2430\n",
       "Gender                              0\n",
       "Occupation                          0\n",
       "Infirmity                           0\n",
       "Religion                         2489\n",
       "dtype: int64"
      ]
     },
     "execution_count": 11,
     "metadata": {},
     "output_type": "execute_result"
    }
   ],
   "source": [
    "sd.isnull().sum() #to check the sum of all null entries"
   ]
  },
  {
   "cell_type": "markdown",
   "id": "35f68bf8",
   "metadata": {},
   "source": [
    "#### Cleaning Age Column\n",
    "\n",
    "First, seeing that the age column is float from above.  I will change the age data type to integer then I will create anaother column to put the ages in bands of 5 years from 0 years to above 100"
   ]
  },
  {
   "cell_type": "code",
   "execution_count": 12,
   "id": "e0cfa272",
   "metadata": {},
   "outputs": [
    {
     "data": {
      "text/plain": [
       "array([ 36.        ,  30.        ,   0.        ,  40.        ,\n",
       "        31.        ,  39.        ,  38.        ,  34.        ,\n",
       "        11.        ,  41.        ,  43.        ,  13.        ,\n",
       "        48.        ,  52.        ,  16.        ,  55.        ,\n",
       "        57.        ,  22.        ,  81.        ,  84.        ,\n",
       "        68.        ,  72.        ,  32.        ,  10.        ,\n",
       "        61.        ,  65.        ,  21.        ,  23.        ,\n",
       "        50.        ,  49.        ,  77.        ,  45.        ,\n",
       "         8.        ,  19.        ,  42.        ,  60.        ,\n",
       "        75.        ,  15.        ,  54.        ,  53.        ,\n",
       "        18.        ,  70.        ,  25.        ,  20.        ,\n",
       "        73.        ,  46.        ,  47.        ,  66.        ,\n",
       "        63.        ,  35.        ,   9.        ,  51.        ,\n",
       "         6.        ,  29.        ,  88.        ,  91.        ,\n",
       "         3.        ,  64.        ,  58.        ,  14.        ,\n",
       "        12.        ,  44.        ,  78.        ,  56.        ,\n",
       "        69.        ,  79.        ,  17.        ,  28.        ,\n",
       "        67.        ,  27.        ,  71.        ,  87.        ,\n",
       "        89.        ,  37.        ,  33.        ,  24.        ,\n",
       "        26.        ,  83.        ,   7.        ,   5.        ,\n",
       "         2.        ,   4.        ,   1.        ,  59.        ,\n",
       "        82.        ,  85.        ,  76.        ,  74.        ,\n",
       "        62.        , 101.        , 105.        ,  80.        ,\n",
       "       104.        ,  93.        ,  61.13467233,  63.13467233,\n",
       "        99.        ,  97.        , 102.        ,  86.        ,\n",
       "        94.        ,  98.        ,  90.        ,  95.        ,\n",
       "        64.10946516,  63.10946516, 100.        ,  96.        ,\n",
       "        67.60232459,  18.        ,  15.        ,  92.        ,\n",
       "        69.68653706,  65.68653706,  23.        ,  20.        ,\n",
       "        67.78607424,  13.        ,   7.        ,   4.        ,\n",
       "         1.        ])"
      ]
     },
     "execution_count": 12,
     "metadata": {},
     "output_type": "execute_result"
    }
   ],
   "source": [
    "sd['Age'].unique() # to check all the unique values in age column. "
   ]
  },
  {
   "cell_type": "code",
   "execution_count": 13,
   "id": "5f7d3054",
   "metadata": {},
   "outputs": [],
   "source": [
    "sd['Age'] = sd['Age'].astype(int) # converts to type integer"
   ]
  },
  {
   "cell_type": "code",
   "execution_count": 14,
   "id": "b59c75ca",
   "metadata": {
    "scrolled": true
   },
   "outputs": [
    {
     "name": "stdout",
     "output_type": "stream",
     "text": [
      "<class 'pandas.core.series.Series'>\n",
      "RangeIndex: 9426 entries, 0 to 9425\n",
      "Series name: Age\n",
      "Non-Null Count  Dtype\n",
      "--------------  -----\n",
      "9426 non-null   int32\n",
      "dtypes: int32(1)\n",
      "memory usage: 36.9 KB\n"
     ]
    }
   ],
   "source": [
    "sd['Age'].info() #to confirm"
   ]
  },
  {
   "cell_type": "markdown",
   "id": "366314fd",
   "metadata": {},
   "source": [
    "Now, I will create the new column by defininf a function that will create the groups then iterate over the column Age to add the groups using list comprehension"
   ]
  },
  {
   "cell_type": "code",
   "execution_count": 15,
   "id": "6a751633",
   "metadata": {},
   "outputs": [],
   "source": [
    "def Age_group (age):  # define the function\n",
    "    if age <= 4:\n",
    "        return \"00 - 04\"\n",
    "    elif age <= 9:\n",
    "        return \"05 - 09\"\n",
    "    elif age <= 14:\n",
    "        return \"10 - 14\"\n",
    "    elif age <= 19:\n",
    "        return \"15 - 19\"\n",
    "    elif age <= 24:\n",
    "        return \"20 - 24\"\n",
    "    elif age <= 29:\n",
    "        return \"25 - 29\"\n",
    "    elif age <= 34:\n",
    "        return \"30 - 34\"\n",
    "    elif age <= 39:\n",
    "        return \"35 - 39\"\n",
    "    elif age <= 44:\n",
    "        return \"40 - 44\"\n",
    "    elif age <= 49:\n",
    "        return \"45 - 49\"\n",
    "    elif age <= 54:\n",
    "        return \"50 - 54\"\n",
    "    elif age <= 59:\n",
    "        return \"55 - 59\"\n",
    "    elif age <= 64:\n",
    "        return \"60 - 64\"\n",
    "    elif age <= 69:\n",
    "        return \"65 - 69\"\n",
    "    elif age <= 74:\n",
    "        return \"70 - 74\"\n",
    "    elif age <= 79:\n",
    "        return \"75 - 79\"\n",
    "    elif age <= 84:\n",
    "        return \"80 - 84\"\n",
    "    elif age <= 89:\n",
    "        return \"85 - 89\"\n",
    "    elif age <= 94:\n",
    "        return \"90 - 94\"\n",
    "    elif age <= 99:\n",
    "        return \"95 - 99\"\n",
    "    else:\n",
    "        return \"100+\"\n",
    "new_group = [Age_group(i) for i in sd['Age']] #list comprehension to iterate over the age column\n",
    "\n",
    "sd['Age_Grp'] = new_group # add the new column to the data  frams"
   ]
  },
  {
   "cell_type": "markdown",
   "id": "1157203a",
   "metadata": {},
   "source": [
    "Plot of Age Pyramid"
   ]
  },
  {
   "cell_type": "code",
   "execution_count": 16,
   "id": "a9eeb70a",
   "metadata": {
    "scrolled": false
   },
   "outputs": [
    {
     "data": {
      "text/html": [
       "<div>\n",
       "<style scoped>\n",
       "    .dataframe tbody tr th:only-of-type {\n",
       "        vertical-align: middle;\n",
       "    }\n",
       "\n",
       "    .dataframe tbody tr th {\n",
       "        vertical-align: top;\n",
       "    }\n",
       "\n",
       "    .dataframe thead th {\n",
       "        text-align: right;\n",
       "    }\n",
       "</style>\n",
       "<table border=\"1\" class=\"dataframe\">\n",
       "  <thead>\n",
       "    <tr style=\"text-align: right;\">\n",
       "      <th></th>\n",
       "      <th>Age_grp</th>\n",
       "      <th>Male</th>\n",
       "      <th>Female</th>\n",
       "    </tr>\n",
       "  </thead>\n",
       "  <tbody>\n",
       "    <tr>\n",
       "      <th>0</th>\n",
       "      <td>00 - 04</td>\n",
       "      <td>-297</td>\n",
       "      <td>268</td>\n",
       "    </tr>\n",
       "    <tr>\n",
       "      <th>1</th>\n",
       "      <td>05 - 09</td>\n",
       "      <td>-333</td>\n",
       "      <td>354</td>\n",
       "    </tr>\n",
       "    <tr>\n",
       "      <th>2</th>\n",
       "      <td>10 - 14</td>\n",
       "      <td>-368</td>\n",
       "      <td>347</td>\n",
       "    </tr>\n",
       "    <tr>\n",
       "      <th>3</th>\n",
       "      <td>100+</td>\n",
       "      <td>-5</td>\n",
       "      <td>4</td>\n",
       "    </tr>\n",
       "    <tr>\n",
       "      <th>4</th>\n",
       "      <td>15 - 19</td>\n",
       "      <td>-369</td>\n",
       "      <td>397</td>\n",
       "    </tr>\n",
       "    <tr>\n",
       "      <th>5</th>\n",
       "      <td>20 - 24</td>\n",
       "      <td>-373</td>\n",
       "      <td>370</td>\n",
       "    </tr>\n",
       "    <tr>\n",
       "      <th>6</th>\n",
       "      <td>25 - 29</td>\n",
       "      <td>-284</td>\n",
       "      <td>345</td>\n",
       "    </tr>\n",
       "    <tr>\n",
       "      <th>7</th>\n",
       "      <td>30 - 34</td>\n",
       "      <td>-301</td>\n",
       "      <td>342</td>\n",
       "    </tr>\n",
       "    <tr>\n",
       "      <th>8</th>\n",
       "      <td>35 - 39</td>\n",
       "      <td>-353</td>\n",
       "      <td>423</td>\n",
       "    </tr>\n",
       "    <tr>\n",
       "      <th>9</th>\n",
       "      <td>40 - 44</td>\n",
       "      <td>-332</td>\n",
       "      <td>413</td>\n",
       "    </tr>\n",
       "    <tr>\n",
       "      <th>10</th>\n",
       "      <td>45 - 49</td>\n",
       "      <td>-309</td>\n",
       "      <td>373</td>\n",
       "    </tr>\n",
       "    <tr>\n",
       "      <th>11</th>\n",
       "      <td>50 - 54</td>\n",
       "      <td>-291</td>\n",
       "      <td>321</td>\n",
       "    </tr>\n",
       "    <tr>\n",
       "      <th>12</th>\n",
       "      <td>55 - 59</td>\n",
       "      <td>-262</td>\n",
       "      <td>260</td>\n",
       "    </tr>\n",
       "    <tr>\n",
       "      <th>13</th>\n",
       "      <td>60 - 64</td>\n",
       "      <td>-207</td>\n",
       "      <td>217</td>\n",
       "    </tr>\n",
       "    <tr>\n",
       "      <th>14</th>\n",
       "      <td>65 - 69</td>\n",
       "      <td>-136</td>\n",
       "      <td>159</td>\n",
       "    </tr>\n",
       "    <tr>\n",
       "      <th>15</th>\n",
       "      <td>70 - 74</td>\n",
       "      <td>-107</td>\n",
       "      <td>121</td>\n",
       "    </tr>\n",
       "    <tr>\n",
       "      <th>16</th>\n",
       "      <td>75 - 79</td>\n",
       "      <td>-72</td>\n",
       "      <td>87</td>\n",
       "    </tr>\n",
       "    <tr>\n",
       "      <th>17</th>\n",
       "      <td>80 - 84</td>\n",
       "      <td>-66</td>\n",
       "      <td>69</td>\n",
       "    </tr>\n",
       "    <tr>\n",
       "      <th>18</th>\n",
       "      <td>85 - 89</td>\n",
       "      <td>-37</td>\n",
       "      <td>29</td>\n",
       "    </tr>\n",
       "    <tr>\n",
       "      <th>19</th>\n",
       "      <td>90 - 94</td>\n",
       "      <td>-9</td>\n",
       "      <td>9</td>\n",
       "    </tr>\n",
       "    <tr>\n",
       "      <th>20</th>\n",
       "      <td>95 - 99</td>\n",
       "      <td>-4</td>\n",
       "      <td>3</td>\n",
       "    </tr>\n",
       "  </tbody>\n",
       "</table>\n",
       "</div>"
      ],
      "text/plain": [
       "    Age_grp  Male  Female\n",
       "0   00 - 04  -297     268\n",
       "1   05 - 09  -333     354\n",
       "2   10 - 14  -368     347\n",
       "3      100+    -5       4\n",
       "4   15 - 19  -369     397\n",
       "5   20 - 24  -373     370\n",
       "6   25 - 29  -284     345\n",
       "7   30 - 34  -301     342\n",
       "8   35 - 39  -353     423\n",
       "9   40 - 44  -332     413\n",
       "10  45 - 49  -309     373\n",
       "11  50 - 54  -291     321\n",
       "12  55 - 59  -262     260\n",
       "13  60 - 64  -207     217\n",
       "14  65 - 69  -136     159\n",
       "15  70 - 74  -107     121\n",
       "16  75 - 79   -72      87\n",
       "17  80 - 84   -66      69\n",
       "18  85 - 89   -37      29\n",
       "19  90 - 94    -9       9\n",
       "20  95 - 99    -4       3"
      ]
     },
     "execution_count": 16,
     "metadata": {},
     "output_type": "execute_result"
    }
   ],
   "source": [
    "male_grp = sd['Age_Grp'][sd.Gender == 'Male' ].value_counts().sort_index() # A count of all males  by age group\n",
    "female_grp = sd['Age_Grp'][sd.Gender == 'Female' ].value_counts().sort_index() # A count of all females  by age group\n",
    "\n",
    "\n",
    "age_p = pd.DataFrame({'Male': -1* male_grp,   # Concatenate both grps to make a dataframe, males are multiplied by -1\n",
    "'Female': female_grp})                        # This is to make it go the opposite direction on the pyramid plot\n",
    "\n",
    "age_p.index.names = ['Age_grp']  # To set the name of the index \n",
    "age_p.reset_index(inplace=True)\n",
    "\n",
    "AgeClass = [ \"00 - 04\",\"05 - 09\",\"10 - 14\", \"15 - 19\", \"20 - 24\", \"25 - 29\", \"30 - 34\", \"35 - 39\", \"40 - 44\", \"45 - 49\", \"50 - 54\", \"55 - 59\",\n",
    "    \"60 - 64\", \"65 - 69\", \"70 - 74\", \"75 - 79\", \"80 - 84\", \"85 - 89\", \"90 - 94\", \"95 - 99\", \"100+\" ]\n",
    "\n",
    "# AgeClass will be used in arranging the pyramid later\n",
    "age_p\n"
   ]
  },
  {
   "cell_type": "code",
   "execution_count": 17,
   "id": "bbe40977",
   "metadata": {},
   "outputs": [
    {
     "data": {
      "text/plain": [
       "[Text(0.5, 1.0, 'Age Pyramid')]"
      ]
     },
     "execution_count": 17,
     "metadata": {},
     "output_type": "execute_result"
    },
    {
     "data": {
      "image/png": "[encoded data removed]",
      "text/plain": [
       "<Figure size 640x480 with 1 Axes>"
      ]
     },
     "metadata": {},
     "output_type": "display_data"
    }
   ],
   "source": [
    "# To plot the age pyramid, I will plot the male, then female\n",
    "\n",
    "age_pyramid = sns.barplot(y='Age_grp', x='Male', data=age_p, order=AgeClass, color=('mediumpurple'), label='Male')\n",
    "\n",
    "age_pyramid = sns.barplot(y='Age_grp', x='Female', data=age_p, order=AgeClass, color=('pink'), label='Female')\n",
    "\n",
    "xticks = [-400, -300, -200, -100, 0, 100, 200, 300, 400]  \n",
    "\n",
    "age_pyramid.set_xticks(xticks)\n",
    "age_pyramid.set_xticklabels([abs(x) for x in xticks]) #to enusre the labels only show positive numbers\n",
    "age_pyramid.legend()\n",
    "\n",
    "age_pyramid.set_xlabel('Population')\n",
    "age_pyramid.set_ylabel('Age Groups')\n",
    "age_pyramid.set(title = 'Age Pyramid')\n",
    "\n"
   ]
  },
  {
   "cell_type": "markdown",
   "id": "fb84a976",
   "metadata": {},
   "source": [
    "#### Cleaning Religion Column"
   ]
  },
  {
   "cell_type": "markdown",
   "id": "cebacc88",
   "metadata": {},
   "source": [
    "Issues seen above with the religion column are highlighted below:\n",
    "1. Some Null Values\n",
    "2. Empty Entries   \n",
    "3. Some Unclear entries such as Nope, Sith"
   ]
  },
  {
   "cell_type": "code",
   "execution_count": 18,
   "id": "e40122d6",
   "metadata": {},
   "outputs": [
    {
     "data": {
      "text/html": [
       "<div>\n",
       "<style scoped>\n",
       "    .dataframe tbody tr th:only-of-type {\n",
       "        vertical-align: middle;\n",
       "    }\n",
       "\n",
       "    .dataframe tbody tr th {\n",
       "        vertical-align: top;\n",
       "    }\n",
       "\n",
       "    .dataframe thead th {\n",
       "        text-align: right;\n",
       "    }\n",
       "</style>\n",
       "<table border=\"1\" class=\"dataframe\">\n",
       "  <thead>\n",
       "    <tr style=\"text-align: right;\">\n",
       "      <th></th>\n",
       "      <th>House Number</th>\n",
       "      <th>Street</th>\n",
       "      <th>First Name</th>\n",
       "      <th>Surname</th>\n",
       "      <th>Age</th>\n",
       "      <th>Relationship to Head of House</th>\n",
       "      <th>Marital Status</th>\n",
       "      <th>Gender</th>\n",
       "      <th>Occupation</th>\n",
       "      <th>Infirmity</th>\n",
       "      <th>Religion</th>\n",
       "      <th>Age_Grp</th>\n",
       "    </tr>\n",
       "  </thead>\n",
       "  <tbody>\n",
       "    <tr>\n",
       "      <th>2</th>\n",
       "      <td>1</td>\n",
       "      <td>Bulldog Crescent</td>\n",
       "      <td>Katy</td>\n",
       "      <td>Baldwin</td>\n",
       "      <td>0</td>\n",
       "      <td>Daughter</td>\n",
       "      <td>NaN</td>\n",
       "      <td>Female</td>\n",
       "      <td>Child</td>\n",
       "      <td>None</td>\n",
       "      <td>NaN</td>\n",
       "      <td>00 - 04</td>\n",
       "    </tr>\n",
       "    <tr>\n",
       "      <th>9</th>\n",
       "      <td>3</td>\n",
       "      <td>Bulldog Crescent</td>\n",
       "      <td>Pauline</td>\n",
       "      <td>Roberts</td>\n",
       "      <td>11</td>\n",
       "      <td>Daughter</td>\n",
       "      <td>NaN</td>\n",
       "      <td>Female</td>\n",
       "      <td>Student</td>\n",
       "      <td>None</td>\n",
       "      <td>NaN</td>\n",
       "      <td>10 - 14</td>\n",
       "    </tr>\n",
       "    <tr>\n",
       "      <th>12</th>\n",
       "      <td>4</td>\n",
       "      <td>Bulldog Crescent</td>\n",
       "      <td>Maureen</td>\n",
       "      <td>Yates</td>\n",
       "      <td>13</td>\n",
       "      <td>Daughter</td>\n",
       "      <td>NaN</td>\n",
       "      <td>Female</td>\n",
       "      <td>Student</td>\n",
       "      <td>None</td>\n",
       "      <td>NaN</td>\n",
       "      <td>10 - 14</td>\n",
       "    </tr>\n",
       "    <tr>\n",
       "      <th>15</th>\n",
       "      <td>5</td>\n",
       "      <td>Bulldog Crescent</td>\n",
       "      <td>Cheryl</td>\n",
       "      <td>Smith</td>\n",
       "      <td>16</td>\n",
       "      <td>Daughter</td>\n",
       "      <td>NaN</td>\n",
       "      <td>Female</td>\n",
       "      <td>Student</td>\n",
       "      <td>None</td>\n",
       "      <td>NaN</td>\n",
       "      <td>15 - 19</td>\n",
       "    </tr>\n",
       "    <tr>\n",
       "      <th>25</th>\n",
       "      <td>10</td>\n",
       "      <td>Bulldog Crescent</td>\n",
       "      <td>Denis</td>\n",
       "      <td>Khan</td>\n",
       "      <td>10</td>\n",
       "      <td>Son</td>\n",
       "      <td>NaN</td>\n",
       "      <td>Male</td>\n",
       "      <td>Student</td>\n",
       "      <td>None</td>\n",
       "      <td>NaN</td>\n",
       "      <td>10 - 14</td>\n",
       "    </tr>\n",
       "    <tr>\n",
       "      <th>...</th>\n",
       "      <td>...</td>\n",
       "      <td>...</td>\n",
       "      <td>...</td>\n",
       "      <td>...</td>\n",
       "      <td>...</td>\n",
       "      <td>...</td>\n",
       "      <td>...</td>\n",
       "      <td>...</td>\n",
       "      <td>...</td>\n",
       "      <td>...</td>\n",
       "      <td>...</td>\n",
       "      <td>...</td>\n",
       "    </tr>\n",
       "    <tr>\n",
       "      <th>9400</th>\n",
       "      <td>1</td>\n",
       "      <td>Stevens Lodge</td>\n",
       "      <td>Hollie</td>\n",
       "      <td>Tucker</td>\n",
       "      <td>9</td>\n",
       "      <td>Granddaughter</td>\n",
       "      <td>NaN</td>\n",
       "      <td>Female</td>\n",
       "      <td>Student</td>\n",
       "      <td>None</td>\n",
       "      <td>NaN</td>\n",
       "      <td>05 - 09</td>\n",
       "    </tr>\n",
       "    <tr>\n",
       "      <th>9401</th>\n",
       "      <td>1</td>\n",
       "      <td>Stevens Lodge</td>\n",
       "      <td>Norman</td>\n",
       "      <td>Spencer</td>\n",
       "      <td>6</td>\n",
       "      <td>Grandson</td>\n",
       "      <td>NaN</td>\n",
       "      <td>Male</td>\n",
       "      <td>Student</td>\n",
       "      <td>None</td>\n",
       "      <td>NaN</td>\n",
       "      <td>05 - 09</td>\n",
       "    </tr>\n",
       "    <tr>\n",
       "      <th>9406</th>\n",
       "      <td>1</td>\n",
       "      <td>Dolphin Lodge</td>\n",
       "      <td>Pamela</td>\n",
       "      <td>Griffiths</td>\n",
       "      <td>15</td>\n",
       "      <td>Daughter</td>\n",
       "      <td>NaN</td>\n",
       "      <td>Female</td>\n",
       "      <td>Student</td>\n",
       "      <td>None</td>\n",
       "      <td>NaN</td>\n",
       "      <td>15 - 19</td>\n",
       "    </tr>\n",
       "    <tr>\n",
       "      <th>9407</th>\n",
       "      <td>1</td>\n",
       "      <td>Dolphin Lodge</td>\n",
       "      <td>Clifford</td>\n",
       "      <td>Griffiths</td>\n",
       "      <td>15</td>\n",
       "      <td>Adopted Son</td>\n",
       "      <td>NaN</td>\n",
       "      <td>Male</td>\n",
       "      <td>Student</td>\n",
       "      <td>None</td>\n",
       "      <td>NaN</td>\n",
       "      <td>15 - 19</td>\n",
       "    </tr>\n",
       "    <tr>\n",
       "      <th>9417</th>\n",
       "      <td>1</td>\n",
       "      <td>Wong Keep</td>\n",
       "      <td>Jasmine</td>\n",
       "      <td>Coleman-Long</td>\n",
       "      <td>8</td>\n",
       "      <td>Daughter</td>\n",
       "      <td>NaN</td>\n",
       "      <td>Female</td>\n",
       "      <td>Student</td>\n",
       "      <td>None</td>\n",
       "      <td>NaN</td>\n",
       "      <td>05 - 09</td>\n",
       "    </tr>\n",
       "  </tbody>\n",
       "</table>\n",
       "<p>2489 rows × 12 columns</p>\n",
       "</div>"
      ],
      "text/plain": [
       "      House Number            Street First Name       Surname  Age  \\\n",
       "2                1  Bulldog Crescent       Katy       Baldwin    0   \n",
       "9                3  Bulldog Crescent    Pauline       Roberts   11   \n",
       "12               4  Bulldog Crescent    Maureen         Yates   13   \n",
       "15               5  Bulldog Crescent     Cheryl         Smith   16   \n",
       "25              10  Bulldog Crescent      Denis          Khan   10   \n",
       "...            ...               ...        ...           ...  ...   \n",
       "9400             1     Stevens Lodge     Hollie        Tucker    9   \n",
       "9401             1     Stevens Lodge     Norman       Spencer    6   \n",
       "9406             1     Dolphin Lodge     Pamela     Griffiths   15   \n",
       "9407             1     Dolphin Lodge   Clifford     Griffiths   15   \n",
       "9417             1         Wong Keep    Jasmine  Coleman-Long    8   \n",
       "\n",
       "     Relationship to Head of House Marital Status  Gender Occupation  \\\n",
       "2                         Daughter            NaN  Female      Child   \n",
       "9                         Daughter            NaN  Female    Student   \n",
       "12                        Daughter            NaN  Female    Student   \n",
       "15                        Daughter            NaN  Female    Student   \n",
       "25                             Son            NaN    Male    Student   \n",
       "...                            ...            ...     ...        ...   \n",
       "9400                 Granddaughter            NaN  Female    Student   \n",
       "9401                      Grandson            NaN    Male    Student   \n",
       "9406                      Daughter            NaN  Female    Student   \n",
       "9407                   Adopted Son            NaN    Male    Student   \n",
       "9417                      Daughter            NaN  Female    Student   \n",
       "\n",
       "     Infirmity Religion  Age_Grp  \n",
       "2         None      NaN  00 - 04  \n",
       "9         None      NaN  10 - 14  \n",
       "12        None      NaN  10 - 14  \n",
       "15        None      NaN  15 - 19  \n",
       "25        None      NaN  10 - 14  \n",
       "...        ...      ...      ...  \n",
       "9400      None      NaN  05 - 09  \n",
       "9401      None      NaN  05 - 09  \n",
       "9406      None      NaN  15 - 19  \n",
       "9407      None      NaN  15 - 19  \n",
       "9417      None      NaN  05 - 09  \n",
       "\n",
       "[2489 rows x 12 columns]"
      ]
     },
     "execution_count": 18,
     "metadata": {},
     "output_type": "execute_result"
    }
   ],
   "source": [
    "# Lets start dealing with the null values by checking all the entries with null.\n",
    "sd[sd['Religion'].isna()]"
   ]
  },
  {
   "cell_type": "code",
   "execution_count": 19,
   "id": "d6c33828",
   "metadata": {},
   "outputs": [
    {
     "data": {
      "text/plain": [
       "<seaborn.axisgrid.FacetGrid at 0x178e2443a30>"
      ]
     },
     "execution_count": 19,
     "metadata": {},
     "output_type": "execute_result"
    },
    {
     "data": {
      "image/png": "[encoded data removed]",
      "text/plain": [
       "<Figure size 500x500 with 1 Axes>"
      ]
     },
     "metadata": {},
     "output_type": "display_data"
    }
   ],
   "source": [
    "sns.displot( sd[sd['Religion'].isna()], x = 'Age_Grp').set(title = ' Null Religion Entries by Age Group') \n",
    "# Plot all null entries by age group to see any similarity"
   ]
  },
  {
   "cell_type": "code",
   "execution_count": 20,
   "id": "207c1651",
   "metadata": {},
   "outputs": [
    {
     "data": {
      "text/plain": [
       "Series([], Name: Religion, dtype: int64)"
      ]
     },
     "execution_count": 20,
     "metadata": {},
     "output_type": "execute_result"
    }
   ],
   "source": [
    "#We can see that only few entries in the null religion are above 15 to 19 age band, \n",
    "# so I will check the religion for all entries below 18 years\n",
    "\n",
    "sd[sd['Age'] < 18]['Religion'].value_counts()"
   ]
  },
  {
   "cell_type": "code",
   "execution_count": 21,
   "id": "d7b83229",
   "metadata": {},
   "outputs": [],
   "source": [
    "# Since all entries below 18 have null vaues, I can change them to Minor\n",
    "sd.loc[(sd['Religion'].isna() ) & (sd['Age'] < 18), 'Religion'] = 'Minor'"
   ]
  },
  {
   "cell_type": "code",
   "execution_count": 22,
   "id": "10152728",
   "metadata": {},
   "outputs": [
    {
     "data": {
      "text/plain": [
       "58"
      ]
     },
     "execution_count": 22,
     "metadata": {},
     "output_type": "execute_result"
    }
   ],
   "source": [
    "# I want to see how many of them are still null asides the minors\n",
    "len(sd[sd['Religion'].isna()])"
   ]
  },
  {
   "cell_type": "code",
   "execution_count": 23,
   "id": "afeec8cc",
   "metadata": {},
   "outputs": [],
   "source": [
    "#For those ones, I will change them to \n",
    "sd.loc[sd['Religion'].isna(), 'Religion'] = 'Unknown'"
   ]
  },
  {
   "cell_type": "code",
   "execution_count": 24,
   "id": "aa21ae01",
   "metadata": {},
   "outputs": [
    {
     "data": {
      "text/plain": [
       "1"
      ]
     },
     "execution_count": 24,
     "metadata": {},
     "output_type": "execute_result"
    }
   ],
   "source": [
    "#I want to see how many entries are empty\n",
    "len(sd[sd['Religion'] == ' '])"
   ]
  },
  {
   "cell_type": "code",
   "execution_count": 25,
   "id": "2dd2fe67",
   "metadata": {},
   "outputs": [
    {
     "data": {
      "text/html": [
       "<div>\n",
       "<style scoped>\n",
       "    .dataframe tbody tr th:only-of-type {\n",
       "        vertical-align: middle;\n",
       "    }\n",
       "\n",
       "    .dataframe tbody tr th {\n",
       "        vertical-align: top;\n",
       "    }\n",
       "\n",
       "    .dataframe thead th {\n",
       "        text-align: right;\n",
       "    }\n",
       "</style>\n",
       "<table border=\"1\" class=\"dataframe\">\n",
       "  <thead>\n",
       "    <tr style=\"text-align: right;\">\n",
       "      <th></th>\n",
       "      <th>House Number</th>\n",
       "      <th>Street</th>\n",
       "      <th>First Name</th>\n",
       "      <th>Surname</th>\n",
       "      <th>Age</th>\n",
       "      <th>Relationship to Head of House</th>\n",
       "      <th>Marital Status</th>\n",
       "      <th>Gender</th>\n",
       "      <th>Occupation</th>\n",
       "      <th>Infirmity</th>\n",
       "      <th>Religion</th>\n",
       "      <th>Age_Grp</th>\n",
       "    </tr>\n",
       "  </thead>\n",
       "  <tbody>\n",
       "    <tr>\n",
       "      <th>8840</th>\n",
       "      <td>4</td>\n",
       "      <td>ExcaliburBells Street</td>\n",
       "      <td>Jean</td>\n",
       "      <td>O'Brien</td>\n",
       "      <td>43</td>\n",
       "      <td>Wife</td>\n",
       "      <td>Married</td>\n",
       "      <td>Female</td>\n",
       "      <td>Ecologist</td>\n",
       "      <td>None</td>\n",
       "      <td></td>\n",
       "      <td>40 - 44</td>\n",
       "    </tr>\n",
       "  </tbody>\n",
       "</table>\n",
       "</div>"
      ],
      "text/plain": [
       "      House Number                 Street First Name  Surname  Age  \\\n",
       "8840             4  ExcaliburBells Street       Jean  O'Brien   43   \n",
       "\n",
       "     Relationship to Head of House Marital Status  Gender Occupation  \\\n",
       "8840                          Wife        Married  Female  Ecologist   \n",
       "\n",
       "     Infirmity Religion  Age_Grp  \n",
       "8840      None           40 - 44  "
      ]
     },
     "execution_count": 25,
     "metadata": {},
     "output_type": "execute_result"
    }
   ],
   "source": [
    "#I want to see the entries that are empty\n",
    "sd[sd['Religion'] == ' ']"
   ]
  },
  {
   "cell_type": "code",
   "execution_count": 26,
   "id": "b7800c43",
   "metadata": {},
   "outputs": [
    {
     "data": {
      "text/html": [
       "<div>\n",
       "<style scoped>\n",
       "    .dataframe tbody tr th:only-of-type {\n",
       "        vertical-align: middle;\n",
       "    }\n",
       "\n",
       "    .dataframe tbody tr th {\n",
       "        vertical-align: top;\n",
       "    }\n",
       "\n",
       "    .dataframe thead th {\n",
       "        text-align: right;\n",
       "    }\n",
       "</style>\n",
       "<table border=\"1\" class=\"dataframe\">\n",
       "  <thead>\n",
       "    <tr style=\"text-align: right;\">\n",
       "      <th></th>\n",
       "      <th>House Number</th>\n",
       "      <th>Street</th>\n",
       "      <th>First Name</th>\n",
       "      <th>Surname</th>\n",
       "      <th>Age</th>\n",
       "      <th>Relationship to Head of House</th>\n",
       "      <th>Marital Status</th>\n",
       "      <th>Gender</th>\n",
       "      <th>Occupation</th>\n",
       "      <th>Infirmity</th>\n",
       "      <th>Religion</th>\n",
       "      <th>Age_Grp</th>\n",
       "    </tr>\n",
       "  </thead>\n",
       "  <tbody>\n",
       "    <tr>\n",
       "      <th>8835</th>\n",
       "      <td>2</td>\n",
       "      <td>ExcaliburBells Street</td>\n",
       "      <td>Marie</td>\n",
       "      <td>Taylor</td>\n",
       "      <td>6</td>\n",
       "      <td>Daughter</td>\n",
       "      <td>NaN</td>\n",
       "      <td>Female</td>\n",
       "      <td>Student</td>\n",
       "      <td>None</td>\n",
       "      <td>Minor</td>\n",
       "      <td>05 - 09</td>\n",
       "    </tr>\n",
       "    <tr>\n",
       "      <th>8836</th>\n",
       "      <td>2</td>\n",
       "      <td>ExcaliburBells Street</td>\n",
       "      <td>Hugh</td>\n",
       "      <td>Taylor</td>\n",
       "      <td>3</td>\n",
       "      <td>Adopted Son</td>\n",
       "      <td>NaN</td>\n",
       "      <td>Male</td>\n",
       "      <td>Child</td>\n",
       "      <td>None</td>\n",
       "      <td>Minor</td>\n",
       "      <td>00 - 04</td>\n",
       "    </tr>\n",
       "    <tr>\n",
       "      <th>8837</th>\n",
       "      <td>2</td>\n",
       "      <td>ExcaliburBells Street</td>\n",
       "      <td>Jamie</td>\n",
       "      <td>Taylor</td>\n",
       "      <td>0</td>\n",
       "      <td>Son</td>\n",
       "      <td>NaN</td>\n",
       "      <td>Male</td>\n",
       "      <td>Child</td>\n",
       "      <td>None</td>\n",
       "      <td>Minor</td>\n",
       "      <td>00 - 04</td>\n",
       "    </tr>\n",
       "    <tr>\n",
       "      <th>8838</th>\n",
       "      <td>3</td>\n",
       "      <td>ExcaliburBells Street</td>\n",
       "      <td>Jeffrey</td>\n",
       "      <td>Hamilton</td>\n",
       "      <td>21</td>\n",
       "      <td>Head</td>\n",
       "      <td>Single</td>\n",
       "      <td>Male</td>\n",
       "      <td>University Student</td>\n",
       "      <td>None</td>\n",
       "      <td>None</td>\n",
       "      <td>20 - 24</td>\n",
       "    </tr>\n",
       "    <tr>\n",
       "      <th>8839</th>\n",
       "      <td>4</td>\n",
       "      <td>ExcaliburBells Street</td>\n",
       "      <td>Clifford</td>\n",
       "      <td>O'Brien</td>\n",
       "      <td>46</td>\n",
       "      <td>Head</td>\n",
       "      <td>Married</td>\n",
       "      <td>Male</td>\n",
       "      <td>Child psychotherapist</td>\n",
       "      <td>None</td>\n",
       "      <td>Christian</td>\n",
       "      <td>45 - 49</td>\n",
       "    </tr>\n",
       "    <tr>\n",
       "      <th>8840</th>\n",
       "      <td>4</td>\n",
       "      <td>ExcaliburBells Street</td>\n",
       "      <td>Jean</td>\n",
       "      <td>O'Brien</td>\n",
       "      <td>43</td>\n",
       "      <td>Wife</td>\n",
       "      <td>Married</td>\n",
       "      <td>Female</td>\n",
       "      <td>Ecologist</td>\n",
       "      <td>None</td>\n",
       "      <td></td>\n",
       "      <td>40 - 44</td>\n",
       "    </tr>\n",
       "    <tr>\n",
       "      <th>8841</th>\n",
       "      <td>4</td>\n",
       "      <td>ExcaliburBells Street</td>\n",
       "      <td>Tracy</td>\n",
       "      <td>O'Brien</td>\n",
       "      <td>15</td>\n",
       "      <td>Daughter</td>\n",
       "      <td>NaN</td>\n",
       "      <td>Female</td>\n",
       "      <td>Student</td>\n",
       "      <td>None</td>\n",
       "      <td>Minor</td>\n",
       "      <td>15 - 19</td>\n",
       "    </tr>\n",
       "    <tr>\n",
       "      <th>8842</th>\n",
       "      <td>5</td>\n",
       "      <td>ExcaliburBells Street</td>\n",
       "      <td>Emily</td>\n",
       "      <td>Curtis</td>\n",
       "      <td>28</td>\n",
       "      <td>Head</td>\n",
       "      <td>Married</td>\n",
       "      <td>Female</td>\n",
       "      <td>Environmental health practitioner</td>\n",
       "      <td>None</td>\n",
       "      <td>None</td>\n",
       "      <td>25 - 29</td>\n",
       "    </tr>\n",
       "    <tr>\n",
       "      <th>8843</th>\n",
       "      <td>5</td>\n",
       "      <td>ExcaliburBells Street</td>\n",
       "      <td>Danny</td>\n",
       "      <td>Curtis</td>\n",
       "      <td>31</td>\n",
       "      <td>Husband</td>\n",
       "      <td>Married</td>\n",
       "      <td>Male</td>\n",
       "      <td>Geologist, engineering</td>\n",
       "      <td>None</td>\n",
       "      <td>None</td>\n",
       "      <td>30 - 34</td>\n",
       "    </tr>\n",
       "    <tr>\n",
       "      <th>8844</th>\n",
       "      <td>5</td>\n",
       "      <td>ExcaliburBells Street</td>\n",
       "      <td>Patrick</td>\n",
       "      <td>Curtis</td>\n",
       "      <td>5</td>\n",
       "      <td>Son</td>\n",
       "      <td>NaN</td>\n",
       "      <td>Male</td>\n",
       "      <td>Student</td>\n",
       "      <td>None</td>\n",
       "      <td>Minor</td>\n",
       "      <td>05 - 09</td>\n",
       "    </tr>\n",
       "  </tbody>\n",
       "</table>\n",
       "</div>"
      ],
      "text/plain": [
       "      House Number                 Street First Name   Surname  Age  \\\n",
       "8835             2  ExcaliburBells Street      Marie    Taylor    6   \n",
       "8836             2  ExcaliburBells Street       Hugh    Taylor    3   \n",
       "8837             2  ExcaliburBells Street      Jamie    Taylor    0   \n",
       "8838             3  ExcaliburBells Street    Jeffrey  Hamilton   21   \n",
       "8839             4  ExcaliburBells Street   Clifford   O'Brien   46   \n",
       "8840             4  ExcaliburBells Street       Jean   O'Brien   43   \n",
       "8841             4  ExcaliburBells Street      Tracy   O'Brien   15   \n",
       "8842             5  ExcaliburBells Street      Emily    Curtis   28   \n",
       "8843             5  ExcaliburBells Street      Danny    Curtis   31   \n",
       "8844             5  ExcaliburBells Street    Patrick    Curtis    5   \n",
       "\n",
       "     Relationship to Head of House Marital Status  Gender  \\\n",
       "8835                      Daughter            NaN  Female   \n",
       "8836                   Adopted Son            NaN    Male   \n",
       "8837                           Son            NaN    Male   \n",
       "8838                          Head         Single    Male   \n",
       "8839                          Head        Married    Male   \n",
       "8840                          Wife        Married  Female   \n",
       "8841                      Daughter            NaN  Female   \n",
       "8842                          Head        Married  Female   \n",
       "8843                       Husband        Married    Male   \n",
       "8844                           Son            NaN    Male   \n",
       "\n",
       "                             Occupation Infirmity   Religion  Age_Grp  \n",
       "8835                            Student      None      Minor  05 - 09  \n",
       "8836                              Child      None      Minor  00 - 04  \n",
       "8837                              Child      None      Minor  00 - 04  \n",
       "8838                 University Student      None       None  20 - 24  \n",
       "8839              Child psychotherapist      None  Christian  45 - 49  \n",
       "8840                          Ecologist      None             40 - 44  \n",
       "8841                            Student      None      Minor  15 - 19  \n",
       "8842  Environmental health practitioner      None       None  25 - 29  \n",
       "8843             Geologist, engineering      None       None  30 - 34  \n",
       "8844                            Student      None      Minor  05 - 09  "
      ]
     },
     "execution_count": 26,
     "metadata": {},
     "output_type": "execute_result"
    }
   ],
   "source": [
    "#I want to look at other people in her household\n",
    "sd[8835:8845]"
   ]
  },
  {
   "cell_type": "code",
   "execution_count": 27,
   "id": "9a2f9eef",
   "metadata": {},
   "outputs": [],
   "source": [
    "\n",
    "##it is very difficult to infer from the above, so I will change it to unknown\n",
    "sd.loc[sd['Religion'] == ' ', 'Religion'] = 'Unknown'"
   ]
  },
  {
   "cell_type": "code",
   "execution_count": 28,
   "id": "060dc88a",
   "metadata": {},
   "outputs": [
    {
     "data": {
      "text/plain": [
       "array(['None', 'Minor', 'Catholic', 'Methodist', 'Christian', 'Muslim',\n",
       "       'Unknown', 'Private', 'Jewish', 'Sikh', 'Nope', 'Buddist',\n",
       "       'Baptist', 'Sith', 'Bahai', 'Agnostic', 'Orthodoxy'], dtype=object)"
      ]
     },
     "execution_count": 28,
     "metadata": {},
     "output_type": "execute_result"
    }
   ],
   "source": [
    "sd['Religion'].unique()"
   ]
  },
  {
   "cell_type": "code",
   "execution_count": 29,
   "id": "1ee3507d",
   "metadata": {
    "scrolled": true
   },
   "outputs": [
    {
     "data": {
      "text/html": [
       "<div>\n",
       "<style scoped>\n",
       "    .dataframe tbody tr th:only-of-type {\n",
       "        vertical-align: middle;\n",
       "    }\n",
       "\n",
       "    .dataframe tbody tr th {\n",
       "        vertical-align: top;\n",
       "    }\n",
       "\n",
       "    .dataframe thead th {\n",
       "        text-align: right;\n",
       "    }\n",
       "</style>\n",
       "<table border=\"1\" class=\"dataframe\">\n",
       "  <thead>\n",
       "    <tr style=\"text-align: right;\">\n",
       "      <th></th>\n",
       "      <th>House Number</th>\n",
       "      <th>Street</th>\n",
       "      <th>First Name</th>\n",
       "      <th>Surname</th>\n",
       "      <th>Age</th>\n",
       "      <th>Relationship to Head of House</th>\n",
       "      <th>Marital Status</th>\n",
       "      <th>Gender</th>\n",
       "      <th>Occupation</th>\n",
       "      <th>Infirmity</th>\n",
       "      <th>Religion</th>\n",
       "      <th>Age_Grp</th>\n",
       "    </tr>\n",
       "  </thead>\n",
       "  <tbody>\n",
       "    <tr>\n",
       "      <th>964</th>\n",
       "      <td>114</td>\n",
       "      <td>Love Avenue</td>\n",
       "      <td>Claire</td>\n",
       "      <td>Davies</td>\n",
       "      <td>36</td>\n",
       "      <td>Head</td>\n",
       "      <td>Divorced</td>\n",
       "      <td>Female</td>\n",
       "      <td>Veterinary surgeon</td>\n",
       "      <td>None</td>\n",
       "      <td>Nope</td>\n",
       "      <td>35 - 39</td>\n",
       "    </tr>\n",
       "    <tr>\n",
       "      <th>8358</th>\n",
       "      <td>12</td>\n",
       "      <td>Bailey Plains</td>\n",
       "      <td>Mohammad</td>\n",
       "      <td>Skinner</td>\n",
       "      <td>31</td>\n",
       "      <td>Head</td>\n",
       "      <td>Single</td>\n",
       "      <td>Male</td>\n",
       "      <td>Therapist, horticultural</td>\n",
       "      <td>None</td>\n",
       "      <td>Nope</td>\n",
       "      <td>30 - 34</td>\n",
       "    </tr>\n",
       "    <tr>\n",
       "      <th>8359</th>\n",
       "      <td>12</td>\n",
       "      <td>Bailey Plains</td>\n",
       "      <td>Donna</td>\n",
       "      <td>King</td>\n",
       "      <td>25</td>\n",
       "      <td>Partner</td>\n",
       "      <td>Single</td>\n",
       "      <td>Female</td>\n",
       "      <td>Scientist, biomedical</td>\n",
       "      <td>None</td>\n",
       "      <td>Nope</td>\n",
       "      <td>25 - 29</td>\n",
       "    </tr>\n",
       "  </tbody>\n",
       "</table>\n",
       "</div>"
      ],
      "text/plain": [
       "      House Number         Street First Name  Surname  Age  \\\n",
       "964            114    Love Avenue     Claire   Davies   36   \n",
       "8358            12  Bailey Plains   Mohammad  Skinner   31   \n",
       "8359            12  Bailey Plains      Donna     King   25   \n",
       "\n",
       "     Relationship to Head of House Marital Status  Gender  \\\n",
       "964                           Head       Divorced  Female   \n",
       "8358                          Head         Single    Male   \n",
       "8359                       Partner         Single  Female   \n",
       "\n",
       "                    Occupation Infirmity Religion  Age_Grp  \n",
       "964         Veterinary surgeon      None     Nope  35 - 39  \n",
       "8358  Therapist, horticultural      None     Nope  30 - 34  \n",
       "8359     Scientist, biomedical      None     Nope  25 - 29  "
      ]
     },
     "execution_count": 29,
     "metadata": {},
     "output_type": "execute_result"
    }
   ],
   "source": [
    "#Some entries are 'Nope', I will check out these entries\n",
    "sd[sd['Religion'] == 'Nope']"
   ]
  },
  {
   "cell_type": "code",
   "execution_count": 30,
   "id": "41438688",
   "metadata": {},
   "outputs": [],
   "source": [
    "# changing it to none as nope is an informal way of saying none\n",
    "sd.loc[sd['Religion'] == 'Nope', 'Religion'] = 'None'"
   ]
  },
  {
   "cell_type": "code",
   "execution_count": 31,
   "id": "4658111d",
   "metadata": {},
   "outputs": [
    {
     "data": {
      "text/html": [
       "<div>\n",
       "<style scoped>\n",
       "    .dataframe tbody tr th:only-of-type {\n",
       "        vertical-align: middle;\n",
       "    }\n",
       "\n",
       "    .dataframe tbody tr th {\n",
       "        vertical-align: top;\n",
       "    }\n",
       "\n",
       "    .dataframe thead th {\n",
       "        text-align: right;\n",
       "    }\n",
       "</style>\n",
       "<table border=\"1\" class=\"dataframe\">\n",
       "  <thead>\n",
       "    <tr style=\"text-align: right;\">\n",
       "      <th></th>\n",
       "      <th>House Number</th>\n",
       "      <th>Street</th>\n",
       "      <th>First Name</th>\n",
       "      <th>Surname</th>\n",
       "      <th>Age</th>\n",
       "      <th>Relationship to Head of House</th>\n",
       "      <th>Marital Status</th>\n",
       "      <th>Gender</th>\n",
       "      <th>Occupation</th>\n",
       "      <th>Infirmity</th>\n",
       "      <th>Religion</th>\n",
       "      <th>Age_Grp</th>\n",
       "    </tr>\n",
       "  </thead>\n",
       "  <tbody>\n",
       "    <tr>\n",
       "      <th>2362</th>\n",
       "      <td>21</td>\n",
       "      <td>Gallows Crescent</td>\n",
       "      <td>Joanna</td>\n",
       "      <td>Banks</td>\n",
       "      <td>53</td>\n",
       "      <td>Head</td>\n",
       "      <td>Divorced</td>\n",
       "      <td>Female</td>\n",
       "      <td>Doctor, hospital</td>\n",
       "      <td>None</td>\n",
       "      <td>Sith</td>\n",
       "      <td>50 - 54</td>\n",
       "    </tr>\n",
       "  </tbody>\n",
       "</table>\n",
       "</div>"
      ],
      "text/plain": [
       "      House Number            Street First Name Surname  Age  \\\n",
       "2362            21  Gallows Crescent     Joanna   Banks   53   \n",
       "\n",
       "     Relationship to Head of House Marital Status  Gender        Occupation  \\\n",
       "2362                          Head       Divorced  Female  Doctor, hospital   \n",
       "\n",
       "     Infirmity Religion  Age_Grp  \n",
       "2362      None     Sith  50 - 54  "
      ]
     },
     "execution_count": 31,
     "metadata": {},
     "output_type": "execute_result"
    }
   ],
   "source": [
    "# An entry is sith, I will check it out\n",
    "sd[sd['Religion'] == 'Sith']"
   ]
  },
  {
   "cell_type": "code",
   "execution_count": 32,
   "id": "ebfa0736",
   "metadata": {
    "scrolled": true
   },
   "outputs": [
    {
     "data": {
      "text/html": [
       "<div>\n",
       "<style scoped>\n",
       "    .dataframe tbody tr th:only-of-type {\n",
       "        vertical-align: middle;\n",
       "    }\n",
       "\n",
       "    .dataframe tbody tr th {\n",
       "        vertical-align: top;\n",
       "    }\n",
       "\n",
       "    .dataframe thead th {\n",
       "        text-align: right;\n",
       "    }\n",
       "</style>\n",
       "<table border=\"1\" class=\"dataframe\">\n",
       "  <thead>\n",
       "    <tr style=\"text-align: right;\">\n",
       "      <th></th>\n",
       "      <th>House Number</th>\n",
       "      <th>Street</th>\n",
       "      <th>First Name</th>\n",
       "      <th>Surname</th>\n",
       "      <th>Age</th>\n",
       "      <th>Relationship to Head of House</th>\n",
       "      <th>Marital Status</th>\n",
       "      <th>Gender</th>\n",
       "      <th>Occupation</th>\n",
       "      <th>Infirmity</th>\n",
       "      <th>Religion</th>\n",
       "      <th>Age_Grp</th>\n",
       "    </tr>\n",
       "  </thead>\n",
       "  <tbody>\n",
       "    <tr>\n",
       "      <th>2355</th>\n",
       "      <td>18</td>\n",
       "      <td>Gallows Crescent</td>\n",
       "      <td>Natalie</td>\n",
       "      <td>Summers</td>\n",
       "      <td>51</td>\n",
       "      <td>Head</td>\n",
       "      <td>Married</td>\n",
       "      <td>Female</td>\n",
       "      <td>Analytical chemist</td>\n",
       "      <td>None</td>\n",
       "      <td>None</td>\n",
       "      <td>50 - 54</td>\n",
       "    </tr>\n",
       "    <tr>\n",
       "      <th>2356</th>\n",
       "      <td>18</td>\n",
       "      <td>Gallows Crescent</td>\n",
       "      <td>Albert</td>\n",
       "      <td>Summers</td>\n",
       "      <td>55</td>\n",
       "      <td>Husband</td>\n",
       "      <td>Married</td>\n",
       "      <td>Male</td>\n",
       "      <td>Environmental education officer</td>\n",
       "      <td>None</td>\n",
       "      <td>None</td>\n",
       "      <td>55 - 59</td>\n",
       "    </tr>\n",
       "    <tr>\n",
       "      <th>2357</th>\n",
       "      <td>18</td>\n",
       "      <td>Gallows Crescent</td>\n",
       "      <td>William</td>\n",
       "      <td>Summers</td>\n",
       "      <td>21</td>\n",
       "      <td>Son</td>\n",
       "      <td>Single</td>\n",
       "      <td>Male</td>\n",
       "      <td>University Student</td>\n",
       "      <td>None</td>\n",
       "      <td>None</td>\n",
       "      <td>20 - 24</td>\n",
       "    </tr>\n",
       "    <tr>\n",
       "      <th>2358</th>\n",
       "      <td>18</td>\n",
       "      <td>Gallows Crescent</td>\n",
       "      <td>Francis</td>\n",
       "      <td>Summers</td>\n",
       "      <td>12</td>\n",
       "      <td>Son</td>\n",
       "      <td>NaN</td>\n",
       "      <td>Male</td>\n",
       "      <td>Student</td>\n",
       "      <td>None</td>\n",
       "      <td>Minor</td>\n",
       "      <td>10 - 14</td>\n",
       "    </tr>\n",
       "    <tr>\n",
       "      <th>2359</th>\n",
       "      <td>19</td>\n",
       "      <td>Gallows Crescent</td>\n",
       "      <td>Ellie</td>\n",
       "      <td>Conway</td>\n",
       "      <td>75</td>\n",
       "      <td>Head</td>\n",
       "      <td>Single</td>\n",
       "      <td>Female</td>\n",
       "      <td>Retired Holiday representative</td>\n",
       "      <td>None</td>\n",
       "      <td>None</td>\n",
       "      <td>75 - 79</td>\n",
       "    </tr>\n",
       "    <tr>\n",
       "      <th>2360</th>\n",
       "      <td>20</td>\n",
       "      <td>Gallows Crescent</td>\n",
       "      <td>Gareth</td>\n",
       "      <td>Kaur</td>\n",
       "      <td>55</td>\n",
       "      <td>Head</td>\n",
       "      <td>Married</td>\n",
       "      <td>Male</td>\n",
       "      <td>Chemist, analytical</td>\n",
       "      <td>None</td>\n",
       "      <td>Christian</td>\n",
       "      <td>55 - 59</td>\n",
       "    </tr>\n",
       "    <tr>\n",
       "      <th>2361</th>\n",
       "      <td>20</td>\n",
       "      <td>Gallows Crescent</td>\n",
       "      <td>Lynda</td>\n",
       "      <td>Kaur</td>\n",
       "      <td>51</td>\n",
       "      <td>Wife</td>\n",
       "      <td>Married</td>\n",
       "      <td>Female</td>\n",
       "      <td>Analytical chemist</td>\n",
       "      <td>None</td>\n",
       "      <td>Christian</td>\n",
       "      <td>50 - 54</td>\n",
       "    </tr>\n",
       "    <tr>\n",
       "      <th>2362</th>\n",
       "      <td>21</td>\n",
       "      <td>Gallows Crescent</td>\n",
       "      <td>Joanna</td>\n",
       "      <td>Banks</td>\n",
       "      <td>53</td>\n",
       "      <td>Head</td>\n",
       "      <td>Divorced</td>\n",
       "      <td>Female</td>\n",
       "      <td>Doctor, hospital</td>\n",
       "      <td>None</td>\n",
       "      <td>Sith</td>\n",
       "      <td>50 - 54</td>\n",
       "    </tr>\n",
       "    <tr>\n",
       "      <th>2363</th>\n",
       "      <td>21</td>\n",
       "      <td>Gallows Crescent</td>\n",
       "      <td>Nathan</td>\n",
       "      <td>Banks</td>\n",
       "      <td>32</td>\n",
       "      <td>Son</td>\n",
       "      <td>Single</td>\n",
       "      <td>Male</td>\n",
       "      <td>IT technical support officer</td>\n",
       "      <td>None</td>\n",
       "      <td>None</td>\n",
       "      <td>30 - 34</td>\n",
       "    </tr>\n",
       "    <tr>\n",
       "      <th>2364</th>\n",
       "      <td>21</td>\n",
       "      <td>Gallows Crescent</td>\n",
       "      <td>Mandy</td>\n",
       "      <td>Banks</td>\n",
       "      <td>23</td>\n",
       "      <td>Daughter</td>\n",
       "      <td>Divorced</td>\n",
       "      <td>Female</td>\n",
       "      <td>Teacher, adult education</td>\n",
       "      <td>None</td>\n",
       "      <td>None</td>\n",
       "      <td>20 - 24</td>\n",
       "    </tr>\n",
       "    <tr>\n",
       "      <th>2365</th>\n",
       "      <td>22</td>\n",
       "      <td>Gallows Crescent</td>\n",
       "      <td>Donna</td>\n",
       "      <td>Ryan</td>\n",
       "      <td>80</td>\n",
       "      <td>Head</td>\n",
       "      <td>Widowed</td>\n",
       "      <td>Female</td>\n",
       "      <td>Retired Barista</td>\n",
       "      <td>Mental Disability</td>\n",
       "      <td>None</td>\n",
       "      <td>80 - 84</td>\n",
       "    </tr>\n",
       "    <tr>\n",
       "      <th>2366</th>\n",
       "      <td>23</td>\n",
       "      <td>Gallows Crescent</td>\n",
       "      <td>Leah</td>\n",
       "      <td>Cooke</td>\n",
       "      <td>38</td>\n",
       "      <td>Head</td>\n",
       "      <td>Divorced</td>\n",
       "      <td>Female</td>\n",
       "      <td>Unemployed</td>\n",
       "      <td>None</td>\n",
       "      <td>None</td>\n",
       "      <td>35 - 39</td>\n",
       "    </tr>\n",
       "    <tr>\n",
       "      <th>2367</th>\n",
       "      <td>23</td>\n",
       "      <td>Gallows Crescent</td>\n",
       "      <td>Mathew</td>\n",
       "      <td>Cooke</td>\n",
       "      <td>11</td>\n",
       "      <td>Son</td>\n",
       "      <td>NaN</td>\n",
       "      <td>Male</td>\n",
       "      <td>Student</td>\n",
       "      <td>None</td>\n",
       "      <td>Minor</td>\n",
       "      <td>10 - 14</td>\n",
       "    </tr>\n",
       "  </tbody>\n",
       "</table>\n",
       "</div>"
      ],
      "text/plain": [
       "      House Number            Street First Name  Surname  Age  \\\n",
       "2355            18  Gallows Crescent    Natalie  Summers   51   \n",
       "2356            18  Gallows Crescent     Albert  Summers   55   \n",
       "2357            18  Gallows Crescent    William  Summers   21   \n",
       "2358            18  Gallows Crescent    Francis  Summers   12   \n",
       "2359            19  Gallows Crescent      Ellie   Conway   75   \n",
       "2360            20  Gallows Crescent     Gareth     Kaur   55   \n",
       "2361            20  Gallows Crescent      Lynda     Kaur   51   \n",
       "2362            21  Gallows Crescent     Joanna    Banks   53   \n",
       "2363            21  Gallows Crescent     Nathan    Banks   32   \n",
       "2364            21  Gallows Crescent      Mandy    Banks   23   \n",
       "2365            22  Gallows Crescent      Donna     Ryan   80   \n",
       "2366            23  Gallows Crescent       Leah    Cooke   38   \n",
       "2367            23  Gallows Crescent     Mathew    Cooke   11   \n",
       "\n",
       "     Relationship to Head of House Marital Status  Gender  \\\n",
       "2355                          Head        Married  Female   \n",
       "2356                       Husband        Married    Male   \n",
       "2357                           Son         Single    Male   \n",
       "2358                           Son            NaN    Male   \n",
       "2359                          Head         Single  Female   \n",
       "2360                          Head        Married    Male   \n",
       "2361                          Wife        Married  Female   \n",
       "2362                          Head       Divorced  Female   \n",
       "2363                           Son         Single    Male   \n",
       "2364                      Daughter       Divorced  Female   \n",
       "2365                          Head        Widowed  Female   \n",
       "2366                          Head       Divorced  Female   \n",
       "2367                           Son            NaN    Male   \n",
       "\n",
       "                           Occupation          Infirmity   Religion  Age_Grp  \n",
       "2355               Analytical chemist               None       None  50 - 54  \n",
       "2356  Environmental education officer               None       None  55 - 59  \n",
       "2357               University Student               None       None  20 - 24  \n",
       "2358                          Student               None      Minor  10 - 14  \n",
       "2359   Retired Holiday representative               None       None  75 - 79  \n",
       "2360              Chemist, analytical               None  Christian  55 - 59  \n",
       "2361               Analytical chemist               None  Christian  50 - 54  \n",
       "2362                 Doctor, hospital               None       Sith  50 - 54  \n",
       "2363     IT technical support officer               None       None  30 - 34  \n",
       "2364         Teacher, adult education               None       None  20 - 24  \n",
       "2365                  Retired Barista  Mental Disability       None  80 - 84  \n",
       "2366                       Unemployed               None       None  35 - 39  \n",
       "2367                          Student               None      Minor  10 - 14  "
      ]
     },
     "execution_count": 32,
     "metadata": {},
     "output_type": "execute_result"
    }
   ],
   "source": [
    "# can I infer anything from the other members of his household?\n",
    "sd[2355:2368]"
   ]
  },
  {
   "cell_type": "code",
   "execution_count": 33,
   "id": "167450a3",
   "metadata": {},
   "outputs": [],
   "source": [
    "# I will change 'Sith' to none since it is not a recognised religion in the UK and moreover, other members of the house are also none\n",
    "sd.loc[sd['Religion'] == 'Sith', 'Religion'] = 'None'"
   ]
  },
  {
   "cell_type": "code",
   "execution_count": 34,
   "id": "3724ba0f",
   "metadata": {},
   "outputs": [
    {
     "data": {
      "text/plain": [
       "array(['None', 'Minor', 'Catholic', 'Methodist', 'Christian', 'Muslim',\n",
       "       'Unknown', 'Private', 'Jewish', 'Sikh', 'Buddist', 'Baptist',\n",
       "       'Bahai', 'Agnostic', 'Orthodoxy'], dtype=object)"
      ]
     },
     "execution_count": 34,
     "metadata": {},
     "output_type": "execute_result"
    }
   ],
   "source": [
    "# now lets check the religion column, it seems clean\n",
    "sd['Religion'].unique()"
   ]
  },
  {
   "cell_type": "code",
   "execution_count": 35,
   "id": "d81f2065",
   "metadata": {},
   "outputs": [
    {
     "data": {
      "text/plain": [
       "<seaborn.axisgrid.FacetGrid at 0x178e2d568b0>"
      ]
     },
     "execution_count": 35,
     "metadata": {},
     "output_type": "execute_result"
    },
    {
     "data": {
      "image/png": "[encoded data removed]",
      "text/plain": [
       "<Figure size 500x500 with 1 Axes>"
      ]
     },
     "metadata": {},
     "output_type": "display_data"
    }
   ],
   "source": [
    "Rel_plt = sns.displot( sd, x = 'Religion').set(title = 'Religion Plot')\n",
    "Rel_plt.set_xticklabels(rotation=45)"
   ]
  },
  {
   "cell_type": "markdown",
   "id": "0ddf68fc",
   "metadata": {},
   "source": [
    "#### Cleaning Marital Status"
   ]
  },
  {
   "cell_type": "code",
   "execution_count": 36,
   "id": "0552e50e",
   "metadata": {
    "scrolled": false
   },
   "outputs": [
    {
     "data": {
      "text/html": [
       "<div>\n",
       "<style scoped>\n",
       "    .dataframe tbody tr th:only-of-type {\n",
       "        vertical-align: middle;\n",
       "    }\n",
       "\n",
       "    .dataframe tbody tr th {\n",
       "        vertical-align: top;\n",
       "    }\n",
       "\n",
       "    .dataframe thead th {\n",
       "        text-align: right;\n",
       "    }\n",
       "</style>\n",
       "<table border=\"1\" class=\"dataframe\">\n",
       "  <thead>\n",
       "    <tr style=\"text-align: right;\">\n",
       "      <th></th>\n",
       "      <th>House Number</th>\n",
       "      <th>Street</th>\n",
       "      <th>First Name</th>\n",
       "      <th>Surname</th>\n",
       "      <th>Age</th>\n",
       "      <th>Relationship to Head of House</th>\n",
       "      <th>Marital Status</th>\n",
       "      <th>Gender</th>\n",
       "      <th>Occupation</th>\n",
       "      <th>Infirmity</th>\n",
       "      <th>Religion</th>\n",
       "      <th>Age_Grp</th>\n",
       "    </tr>\n",
       "  </thead>\n",
       "  <tbody>\n",
       "    <tr>\n",
       "      <th>2</th>\n",
       "      <td>1</td>\n",
       "      <td>Bulldog Crescent</td>\n",
       "      <td>Katy</td>\n",
       "      <td>Baldwin</td>\n",
       "      <td>0</td>\n",
       "      <td>Daughter</td>\n",
       "      <td>NaN</td>\n",
       "      <td>Female</td>\n",
       "      <td>Child</td>\n",
       "      <td>None</td>\n",
       "      <td>Minor</td>\n",
       "      <td>00 - 04</td>\n",
       "    </tr>\n",
       "    <tr>\n",
       "      <th>9</th>\n",
       "      <td>3</td>\n",
       "      <td>Bulldog Crescent</td>\n",
       "      <td>Pauline</td>\n",
       "      <td>Roberts</td>\n",
       "      <td>11</td>\n",
       "      <td>Daughter</td>\n",
       "      <td>NaN</td>\n",
       "      <td>Female</td>\n",
       "      <td>Student</td>\n",
       "      <td>None</td>\n",
       "      <td>Minor</td>\n",
       "      <td>10 - 14</td>\n",
       "    </tr>\n",
       "    <tr>\n",
       "      <th>12</th>\n",
       "      <td>4</td>\n",
       "      <td>Bulldog Crescent</td>\n",
       "      <td>Maureen</td>\n",
       "      <td>Yates</td>\n",
       "      <td>13</td>\n",
       "      <td>Daughter</td>\n",
       "      <td>NaN</td>\n",
       "      <td>Female</td>\n",
       "      <td>Student</td>\n",
       "      <td>None</td>\n",
       "      <td>Minor</td>\n",
       "      <td>10 - 14</td>\n",
       "    </tr>\n",
       "    <tr>\n",
       "      <th>15</th>\n",
       "      <td>5</td>\n",
       "      <td>Bulldog Crescent</td>\n",
       "      <td>Cheryl</td>\n",
       "      <td>Smith</td>\n",
       "      <td>16</td>\n",
       "      <td>Daughter</td>\n",
       "      <td>NaN</td>\n",
       "      <td>Female</td>\n",
       "      <td>Student</td>\n",
       "      <td>None</td>\n",
       "      <td>Minor</td>\n",
       "      <td>15 - 19</td>\n",
       "    </tr>\n",
       "    <tr>\n",
       "      <th>25</th>\n",
       "      <td>10</td>\n",
       "      <td>Bulldog Crescent</td>\n",
       "      <td>Denis</td>\n",
       "      <td>Khan</td>\n",
       "      <td>10</td>\n",
       "      <td>Son</td>\n",
       "      <td>NaN</td>\n",
       "      <td>Male</td>\n",
       "      <td>Student</td>\n",
       "      <td>None</td>\n",
       "      <td>Minor</td>\n",
       "      <td>10 - 14</td>\n",
       "    </tr>\n",
       "    <tr>\n",
       "      <th>...</th>\n",
       "      <td>...</td>\n",
       "      <td>...</td>\n",
       "      <td>...</td>\n",
       "      <td>...</td>\n",
       "      <td>...</td>\n",
       "      <td>...</td>\n",
       "      <td>...</td>\n",
       "      <td>...</td>\n",
       "      <td>...</td>\n",
       "      <td>...</td>\n",
       "      <td>...</td>\n",
       "      <td>...</td>\n",
       "    </tr>\n",
       "    <tr>\n",
       "      <th>9400</th>\n",
       "      <td>1</td>\n",
       "      <td>Stevens Lodge</td>\n",
       "      <td>Hollie</td>\n",
       "      <td>Tucker</td>\n",
       "      <td>9</td>\n",
       "      <td>Granddaughter</td>\n",
       "      <td>NaN</td>\n",
       "      <td>Female</td>\n",
       "      <td>Student</td>\n",
       "      <td>None</td>\n",
       "      <td>Minor</td>\n",
       "      <td>05 - 09</td>\n",
       "    </tr>\n",
       "    <tr>\n",
       "      <th>9401</th>\n",
       "      <td>1</td>\n",
       "      <td>Stevens Lodge</td>\n",
       "      <td>Norman</td>\n",
       "      <td>Spencer</td>\n",
       "      <td>6</td>\n",
       "      <td>Grandson</td>\n",
       "      <td>NaN</td>\n",
       "      <td>Male</td>\n",
       "      <td>Student</td>\n",
       "      <td>None</td>\n",
       "      <td>Minor</td>\n",
       "      <td>05 - 09</td>\n",
       "    </tr>\n",
       "    <tr>\n",
       "      <th>9406</th>\n",
       "      <td>1</td>\n",
       "      <td>Dolphin Lodge</td>\n",
       "      <td>Pamela</td>\n",
       "      <td>Griffiths</td>\n",
       "      <td>15</td>\n",
       "      <td>Daughter</td>\n",
       "      <td>NaN</td>\n",
       "      <td>Female</td>\n",
       "      <td>Student</td>\n",
       "      <td>None</td>\n",
       "      <td>Minor</td>\n",
       "      <td>15 - 19</td>\n",
       "    </tr>\n",
       "    <tr>\n",
       "      <th>9407</th>\n",
       "      <td>1</td>\n",
       "      <td>Dolphin Lodge</td>\n",
       "      <td>Clifford</td>\n",
       "      <td>Griffiths</td>\n",
       "      <td>15</td>\n",
       "      <td>Adopted Son</td>\n",
       "      <td>NaN</td>\n",
       "      <td>Male</td>\n",
       "      <td>Student</td>\n",
       "      <td>None</td>\n",
       "      <td>Minor</td>\n",
       "      <td>15 - 19</td>\n",
       "    </tr>\n",
       "    <tr>\n",
       "      <th>9417</th>\n",
       "      <td>1</td>\n",
       "      <td>Wong Keep</td>\n",
       "      <td>Jasmine</td>\n",
       "      <td>Coleman-Long</td>\n",
       "      <td>8</td>\n",
       "      <td>Daughter</td>\n",
       "      <td>NaN</td>\n",
       "      <td>Female</td>\n",
       "      <td>Student</td>\n",
       "      <td>None</td>\n",
       "      <td>Minor</td>\n",
       "      <td>05 - 09</td>\n",
       "    </tr>\n",
       "  </tbody>\n",
       "</table>\n",
       "<p>2430 rows × 12 columns</p>\n",
       "</div>"
      ],
      "text/plain": [
       "      House Number            Street First Name       Surname  Age  \\\n",
       "2                1  Bulldog Crescent       Katy       Baldwin    0   \n",
       "9                3  Bulldog Crescent    Pauline       Roberts   11   \n",
       "12               4  Bulldog Crescent    Maureen         Yates   13   \n",
       "15               5  Bulldog Crescent     Cheryl         Smith   16   \n",
       "25              10  Bulldog Crescent      Denis          Khan   10   \n",
       "...            ...               ...        ...           ...  ...   \n",
       "9400             1     Stevens Lodge     Hollie        Tucker    9   \n",
       "9401             1     Stevens Lodge     Norman       Spencer    6   \n",
       "9406             1     Dolphin Lodge     Pamela     Griffiths   15   \n",
       "9407             1     Dolphin Lodge   Clifford     Griffiths   15   \n",
       "9417             1         Wong Keep    Jasmine  Coleman-Long    8   \n",
       "\n",
       "     Relationship to Head of House Marital Status  Gender Occupation  \\\n",
       "2                         Daughter            NaN  Female      Child   \n",
       "9                         Daughter            NaN  Female    Student   \n",
       "12                        Daughter            NaN  Female    Student   \n",
       "15                        Daughter            NaN  Female    Student   \n",
       "25                             Son            NaN    Male    Student   \n",
       "...                            ...            ...     ...        ...   \n",
       "9400                 Granddaughter            NaN  Female    Student   \n",
       "9401                      Grandson            NaN    Male    Student   \n",
       "9406                      Daughter            NaN  Female    Student   \n",
       "9407                   Adopted Son            NaN    Male    Student   \n",
       "9417                      Daughter            NaN  Female    Student   \n",
       "\n",
       "     Infirmity Religion  Age_Grp  \n",
       "2         None    Minor  00 - 04  \n",
       "9         None    Minor  10 - 14  \n",
       "12        None    Minor  10 - 14  \n",
       "15        None    Minor  15 - 19  \n",
       "25        None    Minor  10 - 14  \n",
       "...        ...      ...      ...  \n",
       "9400      None    Minor  05 - 09  \n",
       "9401      None    Minor  05 - 09  \n",
       "9406      None    Minor  15 - 19  \n",
       "9407      None    Minor  15 - 19  \n",
       "9417      None    Minor  05 - 09  \n",
       "\n",
       "[2430 rows x 12 columns]"
      ]
     },
     "execution_count": 36,
     "metadata": {},
     "output_type": "execute_result"
    }
   ],
   "source": [
    "#checking out the nulll entries\n",
    "sd[sd['Marital Status'].isna()]"
   ]
  },
  {
   "cell_type": "code",
   "execution_count": 37,
   "id": "4065cdd2",
   "metadata": {},
   "outputs": [
    {
     "data": {
      "image/png": "[encoded data removed]",
      "text/plain": [
       "<Figure size 500x500 with 1 Axes>"
      ]
     },
     "metadata": {},
     "output_type": "display_data"
    }
   ],
   "source": [
    "#A plot of null marital status by age group\n",
    "marital_plt = sns.displot(sd[sd['Marital Status'].isna()], x = 'Age_Grp').set(title = 'Null Entries for Marital Status by Age Group')"
   ]
  },
  {
   "cell_type": "code",
   "execution_count": 38,
   "id": "21a162b4",
   "metadata": {},
   "outputs": [
    {
     "data": {
      "text/plain": [
       "17"
      ]
     },
     "execution_count": 38,
     "metadata": {},
     "output_type": "execute_result"
    }
   ],
   "source": [
    "sd[sd['Marital Status'].isna()]['Age'].max() "
   ]
  },
  {
   "cell_type": "code",
   "execution_count": 39,
   "id": "62b386af",
   "metadata": {},
   "outputs": [],
   "source": [
    "# Since all the entries are below 18 years, they will changed to single(minor) as they are still under the legal age of marriage in the UK\n",
    "sd.loc[(sd['Marital Status'].isna()) & (sd['Age'] < 18), 'Marital Status'] = 'Single (Minor)'"
   ]
  },
  {
   "cell_type": "code",
   "execution_count": 40,
   "id": "c18527d4",
   "metadata": {},
   "outputs": [
    {
     "data": {
      "text/html": [
       "<div>\n",
       "<style scoped>\n",
       "    .dataframe tbody tr th:only-of-type {\n",
       "        vertical-align: middle;\n",
       "    }\n",
       "\n",
       "    .dataframe tbody tr th {\n",
       "        vertical-align: top;\n",
       "    }\n",
       "\n",
       "    .dataframe thead th {\n",
       "        text-align: right;\n",
       "    }\n",
       "</style>\n",
       "<table border=\"1\" class=\"dataframe\">\n",
       "  <thead>\n",
       "    <tr style=\"text-align: right;\">\n",
       "      <th></th>\n",
       "      <th>House Number</th>\n",
       "      <th>Street</th>\n",
       "      <th>First Name</th>\n",
       "      <th>Surname</th>\n",
       "      <th>Age</th>\n",
       "      <th>Relationship to Head of House</th>\n",
       "      <th>Marital Status</th>\n",
       "      <th>Gender</th>\n",
       "      <th>Occupation</th>\n",
       "      <th>Infirmity</th>\n",
       "      <th>Religion</th>\n",
       "      <th>Age_Grp</th>\n",
       "    </tr>\n",
       "  </thead>\n",
       "  <tbody>\n",
       "    <tr>\n",
       "      <th>8941</th>\n",
       "      <td>4</td>\n",
       "      <td>Parsons Inlet</td>\n",
       "      <td>Jason</td>\n",
       "      <td>Davies</td>\n",
       "      <td>56</td>\n",
       "      <td>Husband</td>\n",
       "      <td></td>\n",
       "      <td>Male</td>\n",
       "      <td>Geochemist</td>\n",
       "      <td>None</td>\n",
       "      <td>Catholic</td>\n",
       "      <td>55 - 59</td>\n",
       "    </tr>\n",
       "  </tbody>\n",
       "</table>\n",
       "</div>"
      ],
      "text/plain": [
       "      House Number         Street First Name Surname  Age  \\\n",
       "8941             4  Parsons Inlet      Jason  Davies   56   \n",
       "\n",
       "     Relationship to Head of House Marital Status Gender  Occupation  \\\n",
       "8941                       Husband                  Male  Geochemist   \n",
       "\n",
       "     Infirmity  Religion  Age_Grp  \n",
       "8941      None  Catholic  55 - 59  "
      ]
     },
     "execution_count": 40,
     "metadata": {},
     "output_type": "execute_result"
    }
   ],
   "source": [
    "#checking the empty string entry\n",
    "sd[sd['Marital Status'] == ' ']"
   ]
  },
  {
   "cell_type": "code",
   "execution_count": 41,
   "id": "a8e66527",
   "metadata": {},
   "outputs": [
    {
     "data": {
      "text/html": [
       "<div>\n",
       "<style scoped>\n",
       "    .dataframe tbody tr th:only-of-type {\n",
       "        vertical-align: middle;\n",
       "    }\n",
       "\n",
       "    .dataframe tbody tr th {\n",
       "        vertical-align: top;\n",
       "    }\n",
       "\n",
       "    .dataframe thead th {\n",
       "        text-align: right;\n",
       "    }\n",
       "</style>\n",
       "<table border=\"1\" class=\"dataframe\">\n",
       "  <thead>\n",
       "    <tr style=\"text-align: right;\">\n",
       "      <th></th>\n",
       "      <th>House Number</th>\n",
       "      <th>Street</th>\n",
       "      <th>First Name</th>\n",
       "      <th>Surname</th>\n",
       "      <th>Age</th>\n",
       "      <th>Relationship to Head of House</th>\n",
       "      <th>Marital Status</th>\n",
       "      <th>Gender</th>\n",
       "      <th>Occupation</th>\n",
       "      <th>Infirmity</th>\n",
       "      <th>Religion</th>\n",
       "      <th>Age_Grp</th>\n",
       "    </tr>\n",
       "  </thead>\n",
       "  <tbody>\n",
       "    <tr>\n",
       "      <th>8940</th>\n",
       "      <td>4</td>\n",
       "      <td>Parsons Inlet</td>\n",
       "      <td>Heather</td>\n",
       "      <td>Davies</td>\n",
       "      <td>51</td>\n",
       "      <td>Head</td>\n",
       "      <td>Married</td>\n",
       "      <td>Female</td>\n",
       "      <td>Equality and diversity officer</td>\n",
       "      <td>None</td>\n",
       "      <td>Catholic</td>\n",
       "      <td>50 - 54</td>\n",
       "    </tr>\n",
       "    <tr>\n",
       "      <th>8941</th>\n",
       "      <td>4</td>\n",
       "      <td>Parsons Inlet</td>\n",
       "      <td>Jason</td>\n",
       "      <td>Davies</td>\n",
       "      <td>56</td>\n",
       "      <td>Husband</td>\n",
       "      <td></td>\n",
       "      <td>Male</td>\n",
       "      <td>Geochemist</td>\n",
       "      <td>None</td>\n",
       "      <td>Catholic</td>\n",
       "      <td>55 - 59</td>\n",
       "    </tr>\n",
       "    <tr>\n",
       "      <th>8942</th>\n",
       "      <td>4</td>\n",
       "      <td>Parsons Inlet</td>\n",
       "      <td>Jacqueline</td>\n",
       "      <td>Davies</td>\n",
       "      <td>12</td>\n",
       "      <td>Daughter</td>\n",
       "      <td>Single (Minor)</td>\n",
       "      <td>Female</td>\n",
       "      <td>Student</td>\n",
       "      <td>None</td>\n",
       "      <td>Minor</td>\n",
       "      <td>10 - 14</td>\n",
       "    </tr>\n",
       "    <tr>\n",
       "      <th>8943</th>\n",
       "      <td>4</td>\n",
       "      <td>Parsons Inlet</td>\n",
       "      <td>Gavin</td>\n",
       "      <td>Davies</td>\n",
       "      <td>11</td>\n",
       "      <td>Son</td>\n",
       "      <td>Single (Minor)</td>\n",
       "      <td>Male</td>\n",
       "      <td>Student</td>\n",
       "      <td>None</td>\n",
       "      <td>Minor</td>\n",
       "      <td>10 - 14</td>\n",
       "    </tr>\n",
       "  </tbody>\n",
       "</table>\n",
       "</div>"
      ],
      "text/plain": [
       "      House Number         Street  First Name Surname  Age  \\\n",
       "8940             4  Parsons Inlet     Heather  Davies   51   \n",
       "8941             4  Parsons Inlet       Jason  Davies   56   \n",
       "8942             4  Parsons Inlet  Jacqueline  Davies   12   \n",
       "8943             4  Parsons Inlet       Gavin  Davies   11   \n",
       "\n",
       "     Relationship to Head of House  Marital Status  Gender  \\\n",
       "8940                          Head         Married  Female   \n",
       "8941                       Husband                    Male   \n",
       "8942                      Daughter  Single (Minor)  Female   \n",
       "8943                           Son  Single (Minor)    Male   \n",
       "\n",
       "                          Occupation Infirmity  Religion  Age_Grp  \n",
       "8940  Equality and diversity officer      None  Catholic  50 - 54  \n",
       "8941                      Geochemist      None  Catholic  55 - 59  \n",
       "8942                         Student      None     Minor  10 - 14  \n",
       "8943                         Student      None     Minor  10 - 14  "
      ]
     },
     "execution_count": 41,
     "metadata": {},
     "output_type": "execute_result"
    }
   ],
   "source": [
    "#checking for other members of his household. \n",
    "sd[(sd['House Number'] == 4 ) & (sd['Street'] == 'Parsons Inlet')]"
   ]
  },
  {
   "cell_type": "code",
   "execution_count": 42,
   "id": "3f85acaf",
   "metadata": {},
   "outputs": [],
   "source": [
    "#based on the information seen above, I will chage it to 'Married'\n",
    "sd.loc[sd['Marital Status'] == ' ', 'Marital Status'] = 'Married'"
   ]
  },
  {
   "cell_type": "code",
   "execution_count": 43,
   "id": "94e6e3b7",
   "metadata": {},
   "outputs": [
    {
     "data": {
      "text/html": [
       "<div>\n",
       "<style scoped>\n",
       "    .dataframe tbody tr th:only-of-type {\n",
       "        vertical-align: middle;\n",
       "    }\n",
       "\n",
       "    .dataframe tbody tr th {\n",
       "        vertical-align: top;\n",
       "    }\n",
       "\n",
       "    .dataframe thead th {\n",
       "        text-align: right;\n",
       "    }\n",
       "</style>\n",
       "<table border=\"1\" class=\"dataframe\">\n",
       "  <thead>\n",
       "    <tr style=\"text-align: right;\">\n",
       "      <th></th>\n",
       "      <th>House Number</th>\n",
       "      <th>Street</th>\n",
       "      <th>First Name</th>\n",
       "      <th>Surname</th>\n",
       "      <th>Age</th>\n",
       "      <th>Relationship to Head of House</th>\n",
       "      <th>Marital Status</th>\n",
       "      <th>Gender</th>\n",
       "      <th>Occupation</th>\n",
       "      <th>Infirmity</th>\n",
       "      <th>Religion</th>\n",
       "      <th>Age_Grp</th>\n",
       "    </tr>\n",
       "  </thead>\n",
       "  <tbody>\n",
       "    <tr>\n",
       "      <th>63</th>\n",
       "      <td>7</td>\n",
       "      <td>Leviathan Avenue</td>\n",
       "      <td>Grace</td>\n",
       "      <td>Price</td>\n",
       "      <td>18</td>\n",
       "      <td>Head</td>\n",
       "      <td>Divorced</td>\n",
       "      <td>Female</td>\n",
       "      <td>Student</td>\n",
       "      <td>None</td>\n",
       "      <td>Unknown</td>\n",
       "      <td>15 - 19</td>\n",
       "    </tr>\n",
       "    <tr>\n",
       "      <th>1327</th>\n",
       "      <td>169</td>\n",
       "      <td>Love Avenue</td>\n",
       "      <td>Ross</td>\n",
       "      <td>Smith</td>\n",
       "      <td>18</td>\n",
       "      <td>Son</td>\n",
       "      <td>Divorced</td>\n",
       "      <td>Male</td>\n",
       "      <td>Student</td>\n",
       "      <td>None</td>\n",
       "      <td>Christian</td>\n",
       "      <td>15 - 19</td>\n",
       "    </tr>\n",
       "    <tr>\n",
       "      <th>1539</th>\n",
       "      <td>199</td>\n",
       "      <td>Love Avenue</td>\n",
       "      <td>Jay</td>\n",
       "      <td>John</td>\n",
       "      <td>18</td>\n",
       "      <td>Son</td>\n",
       "      <td>Divorced</td>\n",
       "      <td>Male</td>\n",
       "      <td>Student</td>\n",
       "      <td>None</td>\n",
       "      <td>Christian</td>\n",
       "      <td>15 - 19</td>\n",
       "    </tr>\n",
       "    <tr>\n",
       "      <th>2446</th>\n",
       "      <td>26</td>\n",
       "      <td>Merlin Extension</td>\n",
       "      <td>Joanna</td>\n",
       "      <td>Stokes</td>\n",
       "      <td>18</td>\n",
       "      <td>Daughter</td>\n",
       "      <td>Divorced</td>\n",
       "      <td>Female</td>\n",
       "      <td>Student</td>\n",
       "      <td>None</td>\n",
       "      <td>Catholic</td>\n",
       "      <td>15 - 19</td>\n",
       "    </tr>\n",
       "    <tr>\n",
       "      <th>2921</th>\n",
       "      <td>114</td>\n",
       "      <td>Williams Locks</td>\n",
       "      <td>Terry</td>\n",
       "      <td>Johnson</td>\n",
       "      <td>18</td>\n",
       "      <td>Lodger</td>\n",
       "      <td>Divorced</td>\n",
       "      <td>Male</td>\n",
       "      <td>Student</td>\n",
       "      <td>None</td>\n",
       "      <td>Unknown</td>\n",
       "      <td>15 - 19</td>\n",
       "    </tr>\n",
       "    <tr>\n",
       "      <th>3533</th>\n",
       "      <td>178</td>\n",
       "      <td>Corporation Road</td>\n",
       "      <td>Sean</td>\n",
       "      <td>Saunders</td>\n",
       "      <td>18</td>\n",
       "      <td>Head</td>\n",
       "      <td>Married</td>\n",
       "      <td>Male</td>\n",
       "      <td>Student</td>\n",
       "      <td>None</td>\n",
       "      <td>Unknown</td>\n",
       "      <td>15 - 19</td>\n",
       "    </tr>\n",
       "    <tr>\n",
       "      <th>3671</th>\n",
       "      <td>18</td>\n",
       "      <td>Morar Lane</td>\n",
       "      <td>Julian</td>\n",
       "      <td>Carter</td>\n",
       "      <td>18</td>\n",
       "      <td>Son</td>\n",
       "      <td>Divorced</td>\n",
       "      <td>Male</td>\n",
       "      <td>Student</td>\n",
       "      <td>None</td>\n",
       "      <td>None</td>\n",
       "      <td>15 - 19</td>\n",
       "    </tr>\n",
       "    <tr>\n",
       "      <th>3884</th>\n",
       "      <td>8</td>\n",
       "      <td>Albertpond Crescent</td>\n",
       "      <td>Pauline</td>\n",
       "      <td>Spencer</td>\n",
       "      <td>18</td>\n",
       "      <td>Daughter</td>\n",
       "      <td>Divorced</td>\n",
       "      <td>Female</td>\n",
       "      <td>Student</td>\n",
       "      <td>None</td>\n",
       "      <td>Christian</td>\n",
       "      <td>15 - 19</td>\n",
       "    </tr>\n",
       "    <tr>\n",
       "      <th>4551</th>\n",
       "      <td>17</td>\n",
       "      <td>Virgofix Crescent</td>\n",
       "      <td>Frances</td>\n",
       "      <td>Watson</td>\n",
       "      <td>18</td>\n",
       "      <td>Daughter</td>\n",
       "      <td>Divorced</td>\n",
       "      <td>Female</td>\n",
       "      <td>Student</td>\n",
       "      <td>None</td>\n",
       "      <td>Christian</td>\n",
       "      <td>15 - 19</td>\n",
       "    </tr>\n",
       "    <tr>\n",
       "      <th>5522</th>\n",
       "      <td>48</td>\n",
       "      <td>Tannery Lane</td>\n",
       "      <td>Sylvia</td>\n",
       "      <td>Lawson</td>\n",
       "      <td>18</td>\n",
       "      <td>Head</td>\n",
       "      <td>Married</td>\n",
       "      <td>Female</td>\n",
       "      <td>Student</td>\n",
       "      <td>None</td>\n",
       "      <td>Unknown</td>\n",
       "      <td>15 - 19</td>\n",
       "    </tr>\n",
       "    <tr>\n",
       "      <th>5580</th>\n",
       "      <td>8</td>\n",
       "      <td>London Course</td>\n",
       "      <td>Abigail</td>\n",
       "      <td>Brown-Haynes</td>\n",
       "      <td>18</td>\n",
       "      <td>Daughter</td>\n",
       "      <td>Divorced</td>\n",
       "      <td>Female</td>\n",
       "      <td>Student</td>\n",
       "      <td>None</td>\n",
       "      <td>None</td>\n",
       "      <td>15 - 19</td>\n",
       "    </tr>\n",
       "    <tr>\n",
       "      <th>5808</th>\n",
       "      <td>1</td>\n",
       "      <td>Clark Views</td>\n",
       "      <td>Kathryn</td>\n",
       "      <td>Walsh</td>\n",
       "      <td>18</td>\n",
       "      <td>Head</td>\n",
       "      <td>Married</td>\n",
       "      <td>Female</td>\n",
       "      <td>Student</td>\n",
       "      <td>None</td>\n",
       "      <td>Unknown</td>\n",
       "      <td>15 - 19</td>\n",
       "    </tr>\n",
       "    <tr>\n",
       "      <th>5934</th>\n",
       "      <td>17</td>\n",
       "      <td>Paladinbelt Street</td>\n",
       "      <td>Carl</td>\n",
       "      <td>Cross</td>\n",
       "      <td>18</td>\n",
       "      <td>Head</td>\n",
       "      <td>Married</td>\n",
       "      <td>Male</td>\n",
       "      <td>Student</td>\n",
       "      <td>None</td>\n",
       "      <td>Unknown</td>\n",
       "      <td>15 - 19</td>\n",
       "    </tr>\n",
       "    <tr>\n",
       "      <th>6179</th>\n",
       "      <td>4</td>\n",
       "      <td>Johnson Lane</td>\n",
       "      <td>Grace</td>\n",
       "      <td>Yates</td>\n",
       "      <td>18</td>\n",
       "      <td>Daughter</td>\n",
       "      <td>Divorced</td>\n",
       "      <td>Female</td>\n",
       "      <td>Student</td>\n",
       "      <td>None</td>\n",
       "      <td>None</td>\n",
       "      <td>15 - 19</td>\n",
       "    </tr>\n",
       "    <tr>\n",
       "      <th>6350</th>\n",
       "      <td>16</td>\n",
       "      <td>Inner Turnpike</td>\n",
       "      <td>Dominic</td>\n",
       "      <td>Flynn</td>\n",
       "      <td>18</td>\n",
       "      <td>Head</td>\n",
       "      <td>Married</td>\n",
       "      <td>Male</td>\n",
       "      <td>Student</td>\n",
       "      <td>None</td>\n",
       "      <td>Unknown</td>\n",
       "      <td>15 - 19</td>\n",
       "    </tr>\n",
       "    <tr>\n",
       "      <th>7165</th>\n",
       "      <td>9</td>\n",
       "      <td>Jones Village</td>\n",
       "      <td>Abigail</td>\n",
       "      <td>Noble</td>\n",
       "      <td>18</td>\n",
       "      <td>Head</td>\n",
       "      <td>Married</td>\n",
       "      <td>Female</td>\n",
       "      <td>Student</td>\n",
       "      <td>None</td>\n",
       "      <td>Unknown</td>\n",
       "      <td>15 - 19</td>\n",
       "    </tr>\n",
       "    <tr>\n",
       "      <th>7266</th>\n",
       "      <td>7</td>\n",
       "      <td>Scepter Road</td>\n",
       "      <td>Naomi</td>\n",
       "      <td>Edwards</td>\n",
       "      <td>18</td>\n",
       "      <td>Daughter</td>\n",
       "      <td>Divorced</td>\n",
       "      <td>Female</td>\n",
       "      <td>Student</td>\n",
       "      <td>None</td>\n",
       "      <td>None</td>\n",
       "      <td>15 - 19</td>\n",
       "    </tr>\n",
       "    <tr>\n",
       "      <th>7606</th>\n",
       "      <td>16</td>\n",
       "      <td>Parrot Stream</td>\n",
       "      <td>Donna</td>\n",
       "      <td>Tucker</td>\n",
       "      <td>18</td>\n",
       "      <td>Head</td>\n",
       "      <td>Married</td>\n",
       "      <td>Female</td>\n",
       "      <td>Student</td>\n",
       "      <td>None</td>\n",
       "      <td>Unknown</td>\n",
       "      <td>15 - 19</td>\n",
       "    </tr>\n",
       "    <tr>\n",
       "      <th>7705</th>\n",
       "      <td>79</td>\n",
       "      <td>Parrot Stream</td>\n",
       "      <td>Julie</td>\n",
       "      <td>Griffiths</td>\n",
       "      <td>18</td>\n",
       "      <td>Head</td>\n",
       "      <td>Divorced</td>\n",
       "      <td>Female</td>\n",
       "      <td>Student</td>\n",
       "      <td>None</td>\n",
       "      <td>Unknown</td>\n",
       "      <td>15 - 19</td>\n",
       "    </tr>\n",
       "    <tr>\n",
       "      <th>7930</th>\n",
       "      <td>33</td>\n",
       "      <td>ExcaliburBells River</td>\n",
       "      <td>Mathew</td>\n",
       "      <td>Walker-Williams</td>\n",
       "      <td>18</td>\n",
       "      <td>Son</td>\n",
       "      <td>Divorced</td>\n",
       "      <td>Male</td>\n",
       "      <td>Student</td>\n",
       "      <td>None</td>\n",
       "      <td>Christian</td>\n",
       "      <td>15 - 19</td>\n",
       "    </tr>\n",
       "    <tr>\n",
       "      <th>8825</th>\n",
       "      <td>11</td>\n",
       "      <td>Young Centers</td>\n",
       "      <td>Edward</td>\n",
       "      <td>Hill</td>\n",
       "      <td>18</td>\n",
       "      <td>Son</td>\n",
       "      <td>Widowed</td>\n",
       "      <td>Male</td>\n",
       "      <td>Student</td>\n",
       "      <td>None</td>\n",
       "      <td>Catholic</td>\n",
       "      <td>15 - 19</td>\n",
       "    </tr>\n",
       "    <tr>\n",
       "      <th>9405</th>\n",
       "      <td>1</td>\n",
       "      <td>Dolphin Lodge</td>\n",
       "      <td>Rachael</td>\n",
       "      <td>Griffiths</td>\n",
       "      <td>18</td>\n",
       "      <td>Daughter</td>\n",
       "      <td>Divorced</td>\n",
       "      <td>Female</td>\n",
       "      <td>Student</td>\n",
       "      <td>None</td>\n",
       "      <td>None</td>\n",
       "      <td>15 - 19</td>\n",
       "    </tr>\n",
       "  </tbody>\n",
       "</table>\n",
       "</div>"
      ],
      "text/plain": [
       "      House Number                Street First Name          Surname  Age  \\\n",
       "63               7      Leviathan Avenue      Grace            Price   18   \n",
       "1327           169           Love Avenue       Ross            Smith   18   \n",
       "1539           199           Love Avenue        Jay             John   18   \n",
       "2446            26      Merlin Extension     Joanna           Stokes   18   \n",
       "2921           114        Williams Locks      Terry          Johnson   18   \n",
       "3533           178      Corporation Road       Sean         Saunders   18   \n",
       "3671            18            Morar Lane     Julian           Carter   18   \n",
       "3884             8   Albertpond Crescent    Pauline          Spencer   18   \n",
       "4551            17     Virgofix Crescent    Frances           Watson   18   \n",
       "5522            48          Tannery Lane     Sylvia           Lawson   18   \n",
       "5580             8         London Course    Abigail     Brown-Haynes   18   \n",
       "5808             1           Clark Views    Kathryn            Walsh   18   \n",
       "5934            17    Paladinbelt Street       Carl            Cross   18   \n",
       "6179             4          Johnson Lane      Grace            Yates   18   \n",
       "6350            16        Inner Turnpike    Dominic            Flynn   18   \n",
       "7165             9         Jones Village    Abigail            Noble   18   \n",
       "7266             7          Scepter Road      Naomi          Edwards   18   \n",
       "7606            16         Parrot Stream      Donna           Tucker   18   \n",
       "7705            79         Parrot Stream      Julie        Griffiths   18   \n",
       "7930            33  ExcaliburBells River     Mathew  Walker-Williams   18   \n",
       "8825            11         Young Centers     Edward             Hill   18   \n",
       "9405             1         Dolphin Lodge    Rachael        Griffiths   18   \n",
       "\n",
       "     Relationship to Head of House Marital Status  Gender Occupation  \\\n",
       "63                            Head       Divorced  Female    Student   \n",
       "1327                           Son       Divorced    Male    Student   \n",
       "1539                           Son       Divorced    Male    Student   \n",
       "2446                      Daughter       Divorced  Female    Student   \n",
       "2921                        Lodger       Divorced    Male    Student   \n",
       "3533                          Head        Married    Male    Student   \n",
       "3671                           Son       Divorced    Male    Student   \n",
       "3884                      Daughter       Divorced  Female    Student   \n",
       "4551                      Daughter       Divorced  Female    Student   \n",
       "5522                          Head        Married  Female    Student   \n",
       "5580                      Daughter       Divorced  Female    Student   \n",
       "5808                          Head        Married  Female    Student   \n",
       "5934                          Head        Married    Male    Student   \n",
       "6179                      Daughter       Divorced  Female    Student   \n",
       "6350                          Head        Married    Male    Student   \n",
       "7165                          Head        Married  Female    Student   \n",
       "7266                      Daughter       Divorced  Female    Student   \n",
       "7606                          Head        Married  Female    Student   \n",
       "7705                          Head       Divorced  Female    Student   \n",
       "7930                           Son       Divorced    Male    Student   \n",
       "8825                           Son        Widowed    Male    Student   \n",
       "9405                      Daughter       Divorced  Female    Student   \n",
       "\n",
       "     Infirmity   Religion  Age_Grp  \n",
       "63        None    Unknown  15 - 19  \n",
       "1327      None  Christian  15 - 19  \n",
       "1539      None  Christian  15 - 19  \n",
       "2446      None   Catholic  15 - 19  \n",
       "2921      None    Unknown  15 - 19  \n",
       "3533      None    Unknown  15 - 19  \n",
       "3671      None       None  15 - 19  \n",
       "3884      None  Christian  15 - 19  \n",
       "4551      None  Christian  15 - 19  \n",
       "5522      None    Unknown  15 - 19  \n",
       "5580      None       None  15 - 19  \n",
       "5808      None    Unknown  15 - 19  \n",
       "5934      None    Unknown  15 - 19  \n",
       "6179      None       None  15 - 19  \n",
       "6350      None    Unknown  15 - 19  \n",
       "7165      None    Unknown  15 - 19  \n",
       "7266      None       None  15 - 19  \n",
       "7606      None    Unknown  15 - 19  \n",
       "7705      None    Unknown  15 - 19  \n",
       "7930      None  Christian  15 - 19  \n",
       "8825      None   Catholic  15 - 19  \n",
       "9405      None       None  15 - 19  "
      ]
     },
     "execution_count": 43,
     "metadata": {},
     "output_type": "execute_result"
    }
   ],
   "source": [
    "# It is very unusual for an 18 year old to be anything other than single,\n",
    "# So I will check for this and decide if I will change it based on other information \n",
    "sd[(sd['Marital Status'] != 'Single' ) & (sd['Age'] == 18)]"
   ]
  },
  {
   "cell_type": "code",
   "execution_count": 44,
   "id": "3da3c1dd",
   "metadata": {},
   "outputs": [],
   "source": [
    "#As seen above, some of them are married or divorced  and all of them are university students. \n",
    "# I will take the call to convert them to single\n",
    "\n",
    "sd.loc[(sd['Marital Status']!= 'Single' ) & (sd['Age'] == 18), 'Marital Status'] = 'Single'"
   ]
  },
  {
   "cell_type": "code",
   "execution_count": 45,
   "id": "313a3d61",
   "metadata": {
    "scrolled": false
   },
   "outputs": [
    {
     "data": {
      "text/plain": [
       "[Text(0.5, 1.0, 'Marital Status by Age')]"
      ]
     },
     "execution_count": 45,
     "metadata": {},
     "output_type": "execute_result"
    },
    {
     "data": {
      "image/png": "[encoded data removed]",
      "text/plain": [
       "<Figure size 640x480 with 1 Axes>"
      ]
     },
     "metadata": {},
     "output_type": "display_data"
    }
   ],
   "source": [
    "#A plot of the cleaned marital status column\n",
    "\n",
    "sns.stripplot(data = sd, x = 'Age', y = 'Marital Status' ).set(title = 'Marital Status by Age')"
   ]
  },
  {
   "cell_type": "markdown",
   "id": "bc55cd5d",
   "metadata": {},
   "source": [
    "I noticed some outliers in the single box want to check the dataframe to see if there are other people living in the same household as the old singles.  Just to see if we can infer their actual marital status from the info about their household"
   ]
  },
  {
   "cell_type": "code",
   "execution_count": 46,
   "id": "046097d1",
   "metadata": {
    "scrolled": true
   },
   "outputs": [
    {
     "data": {
      "text/plain": [
       "13"
      ]
     },
     "execution_count": 46,
     "metadata": {},
     "output_type": "execute_result"
    }
   ],
   "source": [
    "old_single = sd[(sd['Marital Status'] == 'Single') & (sd['Age'] > 80)]\n",
    "len(old_single)"
   ]
  },
  {
   "cell_type": "code",
   "execution_count": 47,
   "id": "19e9f31e",
   "metadata": {},
   "outputs": [],
   "source": [
    "matches = pd.DataFrame(columns = sd.columns)\n",
    "for index, i in old_single.iterrows():   #\n",
    "    match =sd[(sd['House Number'] == i['House Number']) & (sd['Street'] == i['Street'])]\n",
    "    if len(match)> 0:\n",
    "        matches = pd.concat([matches, match], ignore_index = True)\n"
   ]
  },
  {
   "cell_type": "code",
   "execution_count": 48,
   "id": "f5384539",
   "metadata": {},
   "outputs": [
    {
     "data": {
      "text/html": [
       "<div>\n",
       "<style scoped>\n",
       "    .dataframe tbody tr th:only-of-type {\n",
       "        vertical-align: middle;\n",
       "    }\n",
       "\n",
       "    .dataframe tbody tr th {\n",
       "        vertical-align: top;\n",
       "    }\n",
       "\n",
       "    .dataframe thead th {\n",
       "        text-align: right;\n",
       "    }\n",
       "</style>\n",
       "<table border=\"1\" class=\"dataframe\">\n",
       "  <thead>\n",
       "    <tr style=\"text-align: right;\">\n",
       "      <th></th>\n",
       "      <th>House Number</th>\n",
       "      <th>Street</th>\n",
       "      <th>First Name</th>\n",
       "      <th>Surname</th>\n",
       "      <th>Age</th>\n",
       "      <th>Relationship to Head of House</th>\n",
       "      <th>Marital Status</th>\n",
       "      <th>Gender</th>\n",
       "      <th>Occupation</th>\n",
       "      <th>Infirmity</th>\n",
       "      <th>Religion</th>\n",
       "      <th>Age_Grp</th>\n",
       "    </tr>\n",
       "  </thead>\n",
       "  <tbody>\n",
       "    <tr>\n",
       "      <th>0</th>\n",
       "      <td>118</td>\n",
       "      <td>Love Avenue</td>\n",
       "      <td>Billy</td>\n",
       "      <td>Daniels</td>\n",
       "      <td>104</td>\n",
       "      <td>Head</td>\n",
       "      <td>Single</td>\n",
       "      <td>Male</td>\n",
       "      <td>Retired Conservator, museum/gallery</td>\n",
       "      <td>None</td>\n",
       "      <td>None</td>\n",
       "      <td>100+</td>\n",
       "    </tr>\n",
       "    <tr>\n",
       "      <th>1</th>\n",
       "      <td>13</td>\n",
       "      <td>Morar Lane</td>\n",
       "      <td>Sharon</td>\n",
       "      <td>Dennis</td>\n",
       "      <td>81</td>\n",
       "      <td>Head</td>\n",
       "      <td>Single</td>\n",
       "      <td>Female</td>\n",
       "      <td>Retired Optician, dispensing</td>\n",
       "      <td>None</td>\n",
       "      <td>Christian</td>\n",
       "      <td>80 - 84</td>\n",
       "    </tr>\n",
       "    <tr>\n",
       "      <th>2</th>\n",
       "      <td>38</td>\n",
       "      <td>Moran Skyway</td>\n",
       "      <td>Molly</td>\n",
       "      <td>Field</td>\n",
       "      <td>99</td>\n",
       "      <td>Head</td>\n",
       "      <td>Single</td>\n",
       "      <td>Female</td>\n",
       "      <td>Retired Administrator, education</td>\n",
       "      <td>None</td>\n",
       "      <td>Christian</td>\n",
       "      <td>95 - 99</td>\n",
       "    </tr>\n",
       "    <tr>\n",
       "      <th>3</th>\n",
       "      <td>14</td>\n",
       "      <td>Inner Turnpike</td>\n",
       "      <td>Kyle</td>\n",
       "      <td>Rowley</td>\n",
       "      <td>82</td>\n",
       "      <td>Head</td>\n",
       "      <td>Single</td>\n",
       "      <td>Male</td>\n",
       "      <td>Retired Multimedia programmer</td>\n",
       "      <td>None</td>\n",
       "      <td>Christian</td>\n",
       "      <td>80 - 84</td>\n",
       "    </tr>\n",
       "    <tr>\n",
       "      <th>4</th>\n",
       "      <td>114</td>\n",
       "      <td>Portsmouthcoffer Street</td>\n",
       "      <td>Alison</td>\n",
       "      <td>Cooke</td>\n",
       "      <td>91</td>\n",
       "      <td>Head</td>\n",
       "      <td>Single</td>\n",
       "      <td>Female</td>\n",
       "      <td>Retired IT sales professional</td>\n",
       "      <td>None</td>\n",
       "      <td>Christian</td>\n",
       "      <td>90 - 94</td>\n",
       "    </tr>\n",
       "    <tr>\n",
       "      <th>5</th>\n",
       "      <td>9</td>\n",
       "      <td>Schoolcross Road</td>\n",
       "      <td>June</td>\n",
       "      <td>Banks</td>\n",
       "      <td>84</td>\n",
       "      <td>Head</td>\n",
       "      <td>Single</td>\n",
       "      <td>Female</td>\n",
       "      <td>Retired Diplomatic Services operational officer</td>\n",
       "      <td>None</td>\n",
       "      <td>Christian</td>\n",
       "      <td>80 - 84</td>\n",
       "    </tr>\n",
       "    <tr>\n",
       "      <th>6</th>\n",
       "      <td>8</td>\n",
       "      <td>Porter Parks</td>\n",
       "      <td>Gavin</td>\n",
       "      <td>Wallace</td>\n",
       "      <td>102</td>\n",
       "      <td>Head</td>\n",
       "      <td>Single</td>\n",
       "      <td>Male</td>\n",
       "      <td>Retired Health promotion specialist</td>\n",
       "      <td>None</td>\n",
       "      <td>Catholic</td>\n",
       "      <td>100+</td>\n",
       "    </tr>\n",
       "    <tr>\n",
       "      <th>7</th>\n",
       "      <td>4</td>\n",
       "      <td>Outer Drive</td>\n",
       "      <td>Megan</td>\n",
       "      <td>Barker</td>\n",
       "      <td>83</td>\n",
       "      <td>Head</td>\n",
       "      <td>Single</td>\n",
       "      <td>Female</td>\n",
       "      <td>Retired Scientist, research (physical sciences)</td>\n",
       "      <td>None</td>\n",
       "      <td>Methodist</td>\n",
       "      <td>80 - 84</td>\n",
       "    </tr>\n",
       "    <tr>\n",
       "      <th>8</th>\n",
       "      <td>8</td>\n",
       "      <td>Outer Drive</td>\n",
       "      <td>Bradley</td>\n",
       "      <td>Bradley</td>\n",
       "      <td>85</td>\n",
       "      <td>Head</td>\n",
       "      <td>Single</td>\n",
       "      <td>Male</td>\n",
       "      <td>Retired Theatre director</td>\n",
       "      <td>None</td>\n",
       "      <td>None</td>\n",
       "      <td>85 - 89</td>\n",
       "    </tr>\n",
       "    <tr>\n",
       "      <th>9</th>\n",
       "      <td>25</td>\n",
       "      <td>Jones Spring</td>\n",
       "      <td>June</td>\n",
       "      <td>Howe</td>\n",
       "      <td>86</td>\n",
       "      <td>Head</td>\n",
       "      <td>Single</td>\n",
       "      <td>Female</td>\n",
       "      <td>Retired Arts administrator</td>\n",
       "      <td>None</td>\n",
       "      <td>Christian</td>\n",
       "      <td>85 - 89</td>\n",
       "    </tr>\n",
       "    <tr>\n",
       "      <th>10</th>\n",
       "      <td>25</td>\n",
       "      <td>Jones Spring</td>\n",
       "      <td>Gerald</td>\n",
       "      <td>Howe</td>\n",
       "      <td>42</td>\n",
       "      <td>Son</td>\n",
       "      <td>Single</td>\n",
       "      <td>Male</td>\n",
       "      <td>Architectural technologist</td>\n",
       "      <td>None</td>\n",
       "      <td>None</td>\n",
       "      <td>40 - 44</td>\n",
       "    </tr>\n",
       "    <tr>\n",
       "      <th>11</th>\n",
       "      <td>25</td>\n",
       "      <td>Jones Spring</td>\n",
       "      <td>David</td>\n",
       "      <td>Howe</td>\n",
       "      <td>37</td>\n",
       "      <td>Son</td>\n",
       "      <td>Divorced</td>\n",
       "      <td>Male</td>\n",
       "      <td>Nurse, children's</td>\n",
       "      <td>None</td>\n",
       "      <td>None</td>\n",
       "      <td>35 - 39</td>\n",
       "    </tr>\n",
       "    <tr>\n",
       "      <th>12</th>\n",
       "      <td>77</td>\n",
       "      <td>Parrot Stream</td>\n",
       "      <td>Iain</td>\n",
       "      <td>Green</td>\n",
       "      <td>81</td>\n",
       "      <td>Head</td>\n",
       "      <td>Single</td>\n",
       "      <td>Male</td>\n",
       "      <td>Retired Bonds trader</td>\n",
       "      <td>None</td>\n",
       "      <td>None</td>\n",
       "      <td>80 - 84</td>\n",
       "    </tr>\n",
       "    <tr>\n",
       "      <th>13</th>\n",
       "      <td>6</td>\n",
       "      <td>ExcaliburBells River</td>\n",
       "      <td>Melissa</td>\n",
       "      <td>Collins</td>\n",
       "      <td>88</td>\n",
       "      <td>Head</td>\n",
       "      <td>Single</td>\n",
       "      <td>Female</td>\n",
       "      <td>Retired Teacher, early years/pre</td>\n",
       "      <td>None</td>\n",
       "      <td>None</td>\n",
       "      <td>85 - 89</td>\n",
       "    </tr>\n",
       "    <tr>\n",
       "      <th>14</th>\n",
       "      <td>8</td>\n",
       "      <td>Preston Plains</td>\n",
       "      <td>Suzanne</td>\n",
       "      <td>Pollard</td>\n",
       "      <td>83</td>\n",
       "      <td>Head</td>\n",
       "      <td>Single</td>\n",
       "      <td>Female</td>\n",
       "      <td>Retired Commercial horticulturist</td>\n",
       "      <td>None</td>\n",
       "      <td>None</td>\n",
       "      <td>80 - 84</td>\n",
       "    </tr>\n",
       "  </tbody>\n",
       "</table>\n",
       "</div>"
      ],
      "text/plain": [
       "   House Number                   Street First Name  Surname  Age  \\\n",
       "0           118              Love Avenue      Billy  Daniels  104   \n",
       "1            13               Morar Lane     Sharon   Dennis   81   \n",
       "2            38             Moran Skyway      Molly    Field   99   \n",
       "3            14           Inner Turnpike       Kyle   Rowley   82   \n",
       "4           114  Portsmouthcoffer Street     Alison    Cooke   91   \n",
       "5             9         Schoolcross Road       June    Banks   84   \n",
       "6             8             Porter Parks      Gavin  Wallace  102   \n",
       "7             4              Outer Drive      Megan   Barker   83   \n",
       "8             8              Outer Drive    Bradley  Bradley   85   \n",
       "9            25             Jones Spring       June     Howe   86   \n",
       "10           25             Jones Spring     Gerald     Howe   42   \n",
       "11           25             Jones Spring      David     Howe   37   \n",
       "12           77            Parrot Stream       Iain    Green   81   \n",
       "13            6     ExcaliburBells River    Melissa  Collins   88   \n",
       "14            8           Preston Plains    Suzanne  Pollard   83   \n",
       "\n",
       "   Relationship to Head of House Marital Status  Gender  \\\n",
       "0                           Head         Single    Male   \n",
       "1                           Head         Single  Female   \n",
       "2                           Head         Single  Female   \n",
       "3                           Head         Single    Male   \n",
       "4                           Head         Single  Female   \n",
       "5                           Head         Single  Female   \n",
       "6                           Head         Single    Male   \n",
       "7                           Head         Single  Female   \n",
       "8                           Head         Single    Male   \n",
       "9                           Head         Single  Female   \n",
       "10                           Son         Single    Male   \n",
       "11                           Son       Divorced    Male   \n",
       "12                          Head         Single    Male   \n",
       "13                          Head         Single  Female   \n",
       "14                          Head         Single  Female   \n",
       "\n",
       "                                         Occupation Infirmity   Religion  \\\n",
       "0               Retired Conservator, museum/gallery      None       None   \n",
       "1                      Retired Optician, dispensing      None  Christian   \n",
       "2                  Retired Administrator, education      None  Christian   \n",
       "3                     Retired Multimedia programmer      None  Christian   \n",
       "4                     Retired IT sales professional      None  Christian   \n",
       "5   Retired Diplomatic Services operational officer      None  Christian   \n",
       "6               Retired Health promotion specialist      None   Catholic   \n",
       "7   Retired Scientist, research (physical sciences)      None  Methodist   \n",
       "8                          Retired Theatre director      None       None   \n",
       "9                        Retired Arts administrator      None  Christian   \n",
       "10                       Architectural technologist      None       None   \n",
       "11                                Nurse, children's      None       None   \n",
       "12                             Retired Bonds trader      None       None   \n",
       "13                 Retired Teacher, early years/pre      None       None   \n",
       "14                Retired Commercial horticulturist      None       None   \n",
       "\n",
       "    Age_Grp  \n",
       "0      100+  \n",
       "1   80 - 84  \n",
       "2   95 - 99  \n",
       "3   80 - 84  \n",
       "4   90 - 94  \n",
       "5   80 - 84  \n",
       "6      100+  \n",
       "7   80 - 84  \n",
       "8   85 - 89  \n",
       "9   85 - 89  \n",
       "10  40 - 44  \n",
       "11  35 - 39  \n",
       "12  80 - 84  \n",
       "13  85 - 89  \n",
       "14  80 - 84  "
      ]
     },
     "execution_count": 48,
     "metadata": {},
     "output_type": "execute_result"
    }
   ],
   "source": [
    "matches\n",
    "\n",
    "#All of them live alone except for who lives with her two sons and it is not uncommon to live have children as a single person"
   ]
  },
  {
   "cell_type": "code",
   "execution_count": 49,
   "id": "89f96e54",
   "metadata": {
    "scrolled": false
   },
   "outputs": [
    {
     "data": {
      "text/plain": [
       "<seaborn.axisgrid.FacetGrid at 0x178e306d310>"
      ]
     },
     "execution_count": 49,
     "metadata": {},
     "output_type": "execute_result"
    },
    {
     "data": {
      "image/png": "[encoded data removed]",
      "text/plain": [
       "<Figure size 1500x300 with 5 Axes>"
      ]
     },
     "metadata": {},
     "output_type": "display_data"
    }
   ],
   "source": [
    "#A plot of Marital Status by Gender\n",
    "sns.FacetGrid(sd, col = 'Marital Status').set(title = 'Marital Status by Gender').map(sns.countplot, 'Gender', order = ['Male', 'Female'])"
   ]
  },
  {
   "cell_type": "markdown",
   "id": "af28b224",
   "metadata": {},
   "source": [
    "#### Cleaning Occupation Column"
   ]
  },
  {
   "cell_type": "code",
   "execution_count": 50,
   "id": "0c9a6eeb",
   "metadata": {},
   "outputs": [
    {
     "data": {
      "text/plain": [
       "array(['Education administrator', 'Purchasing manager', 'Child', ...,\n",
       "       'Retired Statistician', 'Retired Restaurant manager, fast food',\n",
       "       'Retired Careers information officer'], dtype=object)"
      ]
     },
     "execution_count": 50,
     "metadata": {},
     "output_type": "execute_result"
    }
   ],
   "source": [
    "#Earlier I saw 1,080 entries in the occupation column \n",
    "sd['Occupation'].unique()"
   ]
  },
  {
   "cell_type": "code",
   "execution_count": 51,
   "id": "f72254fa",
   "metadata": {
    "scrolled": false
   },
   "outputs": [
    {
     "data": {
      "text/html": [
       "<div>\n",
       "<style scoped>\n",
       "    .dataframe tbody tr th:only-of-type {\n",
       "        vertical-align: middle;\n",
       "    }\n",
       "\n",
       "    .dataframe tbody tr th {\n",
       "        vertical-align: top;\n",
       "    }\n",
       "\n",
       "    .dataframe thead th {\n",
       "        text-align: right;\n",
       "    }\n",
       "</style>\n",
       "<table border=\"1\" class=\"dataframe\">\n",
       "  <thead>\n",
       "    <tr style=\"text-align: right;\">\n",
       "      <th></th>\n",
       "      <th>House Number</th>\n",
       "      <th>Street</th>\n",
       "      <th>First Name</th>\n",
       "      <th>Surname</th>\n",
       "      <th>Age</th>\n",
       "      <th>Relationship to Head of House</th>\n",
       "      <th>Marital Status</th>\n",
       "      <th>Gender</th>\n",
       "      <th>Occupation</th>\n",
       "      <th>Infirmity</th>\n",
       "      <th>Religion</th>\n",
       "      <th>Age_Grp</th>\n",
       "    </tr>\n",
       "  </thead>\n",
       "  <tbody>\n",
       "    <tr>\n",
       "      <th>8078</th>\n",
       "      <td>7</td>\n",
       "      <td>Green Glens</td>\n",
       "      <td>Jill</td>\n",
       "      <td>Stevens</td>\n",
       "      <td>9</td>\n",
       "      <td>Daughter</td>\n",
       "      <td>Single (Minor)</td>\n",
       "      <td>Female</td>\n",
       "      <td></td>\n",
       "      <td>None</td>\n",
       "      <td>Minor</td>\n",
       "      <td>05 - 09</td>\n",
       "    </tr>\n",
       "  </tbody>\n",
       "</table>\n",
       "</div>"
      ],
      "text/plain": [
       "      House Number       Street First Name  Surname  Age  \\\n",
       "8078             7  Green Glens       Jill  Stevens    9   \n",
       "\n",
       "     Relationship to Head of House  Marital Status  Gender Occupation  \\\n",
       "8078                      Daughter  Single (Minor)  Female              \n",
       "\n",
       "     Infirmity Religion  Age_Grp  \n",
       "8078      None    Minor  05 - 09  "
      ]
     },
     "execution_count": 51,
     "metadata": {},
     "output_type": "execute_result"
    }
   ],
   "source": [
    "#Checking for empty strings since there are no null values\n",
    "sd[sd['Occupation'] == ' ']"
   ]
  },
  {
   "cell_type": "code",
   "execution_count": 52,
   "id": "f916233e",
   "metadata": {},
   "outputs": [
    {
     "data": {
      "text/plain": [
       "array(['Child', 'Student', ' '], dtype=object)"
      ]
     },
     "execution_count": 52,
     "metadata": {},
     "output_type": "execute_result"
    }
   ],
   "source": [
    "# the empty string entry is a minor, s oI will check for minors occupation just tobe sure of how to deal with it\n",
    "sd[sd['Age'] < 18]['Occupation'].unique()"
   ]
  },
  {
   "cell_type": "code",
   "execution_count": 53,
   "id": "7624f3bf",
   "metadata": {},
   "outputs": [
    {
     "data": {
      "text/plain": [
       "<seaborn.axisgrid.FacetGrid at 0x178e4672e20>"
      ]
     },
     "execution_count": 53,
     "metadata": {},
     "output_type": "execute_result"
    },
    {
     "data": {
      "image/png": "[encoded data removed]",
      "text/plain": [
       "<Figure size 599.125x500 with 1 Axes>"
      ]
     },
     "metadata": {},
     "output_type": "display_data"
    }
   ],
   "source": [
    "# Checking the plot of age band 5 to 9 years to see the occupation\n",
    "sns.displot(sd[sd['Age_Grp'] == '05 - 09'], x = 'Occupation', hue = 'Age_Grp' ).set(title = 'Minors Occupation')"
   ]
  },
  {
   "cell_type": "code",
   "execution_count": 54,
   "id": "9dd47858",
   "metadata": {},
   "outputs": [
    {
     "data": {
      "text/plain": [
       "<seaborn.axisgrid.FacetGrid at 0x178e485fd60>"
      ]
     },
     "execution_count": 54,
     "metadata": {},
     "output_type": "execute_result"
    },
    {
     "data": {
      "image/png": "[encoded data removed]",
      "text/plain": [
       "<Figure size 599.125x500 with 1 Axes>"
      ]
     },
     "metadata": {},
     "output_type": "display_data"
    }
   ],
   "source": [
    "#I will like to see all student entries\n",
    "\n",
    "sns.displot(sd[sd['Occupation'].str.contains('Student', case = False)], x = 'Occupation', hue = 'Age_Grp' ).set_xticklabels(rotation=45) \n",
    "\n",
    "# There are students accross different age groups, I will like to differentiate them"
   ]
  },
  {
   "cell_type": "code",
   "execution_count": 55,
   "id": "cb644387",
   "metadata": {},
   "outputs": [],
   "source": [
    "sd.loc[sd['Occupation'] == ' ', 'Occupation'] = 'Student' # for the empty entry above\n",
    "sd.loc[(sd['Occupation'] == 'Student') \n",
    "       & (sd['Age'] < 18), 'Occupation'] = 'Student(Minor)' # to differentiate minor students from matured students"
   ]
  },
  {
   "cell_type": "code",
   "execution_count": 56,
   "id": "f3fba64f",
   "metadata": {},
   "outputs": [],
   "source": [
    "#I want to create another column to describe the occupation categories. \n",
    "# I will use a defined function and list comprehension to go over the columns and assign occupation categories\n",
    "def Occupation_Group (occupation):\n",
    "    if 'Retired' in occupation:\n",
    "        return \"Retired\"                            # for retired people\n",
    "    elif occupation == 'Student(Minor)':            # for minor students\n",
    "        return \"Student(Minor)\"\n",
    "    elif 'Student' in occupation :\n",
    "        return \"Student\"                 # other matured sstudents with phd students too\n",
    "    elif occupation == 'Unemployed':\n",
    "        return \"Unemployed\"    \n",
    "    elif occupation == 'Child':                  \n",
    "        return \"Child\"                             #Children below 5 years\n",
    "    else:\n",
    "        return \"Employed\"                          # All other entries\n",
    "Employment  = [Occupation_Group(i) for i in sd['Occupation']]\n",
    "sd['Employment Category'] = Employment"
   ]
  },
  {
   "cell_type": "code",
   "execution_count": 57,
   "id": "59ca3b4e",
   "metadata": {},
   "outputs": [
    {
     "data": {
      "text/plain": [
       "<seaborn.axisgrid.FacetGrid at 0x178e4935760>"
      ]
     },
     "execution_count": 57,
     "metadata": {},
     "output_type": "execute_result"
    },
    {
     "data": {
      "image/png": "[encoded data removed]",
      "text/plain": [
       "<Figure size 599.125x500 with 1 Axes>"
      ]
     },
     "metadata": {},
     "output_type": "display_data"
    }
   ],
   "source": [
    "sns.displot(sd, x = 'Employment Category', hue = 'Age_Grp').set(title = 'Employment Rate ').set_xticklabels(rotation=45)\n"
   ]
  },
  {
   "cell_type": "code",
   "execution_count": 58,
   "id": "77eb33d7",
   "metadata": {},
   "outputs": [
    {
     "data": {
      "text/plain": [
       "Employed          4962\n",
       "Student(Minor)    1867\n",
       "Student            739\n",
       "Retired            716\n",
       "Unemployed         578\n",
       "Child              564\n",
       "Name: Employment Category, dtype: int64"
      ]
     },
     "execution_count": 58,
     "metadata": {},
     "output_type": "execute_result"
    }
   ],
   "source": [
    "sd['Employment Category'].value_counts()"
   ]
  },
  {
   "cell_type": "markdown",
   "id": "d267f1c5",
   "metadata": {},
   "source": [
    "#### Cleaning Infirmity Column\n",
    "\n",
    "The column contains some empty strings, I will check them if possible convert them to something meaningful, if not, I will conert them to unknown\n"
   ]
  },
  {
   "cell_type": "code",
   "execution_count": 59,
   "id": "38802a8e",
   "metadata": {
    "scrolled": false
   },
   "outputs": [
    {
     "data": {
      "text/html": [
       "<div>\n",
       "<style scoped>\n",
       "    .dataframe tbody tr th:only-of-type {\n",
       "        vertical-align: middle;\n",
       "    }\n",
       "\n",
       "    .dataframe tbody tr th {\n",
       "        vertical-align: top;\n",
       "    }\n",
       "\n",
       "    .dataframe thead th {\n",
       "        text-align: right;\n",
       "    }\n",
       "</style>\n",
       "<table border=\"1\" class=\"dataframe\">\n",
       "  <thead>\n",
       "    <tr style=\"text-align: right;\">\n",
       "      <th></th>\n",
       "      <th>House Number</th>\n",
       "      <th>Street</th>\n",
       "      <th>First Name</th>\n",
       "      <th>Surname</th>\n",
       "      <th>Age</th>\n",
       "      <th>Relationship to Head of House</th>\n",
       "      <th>Marital Status</th>\n",
       "      <th>Gender</th>\n",
       "      <th>Occupation</th>\n",
       "      <th>Infirmity</th>\n",
       "      <th>Religion</th>\n",
       "      <th>Age_Grp</th>\n",
       "      <th>Employment Category</th>\n",
       "    </tr>\n",
       "  </thead>\n",
       "  <tbody>\n",
       "    <tr>\n",
       "      <th>1048</th>\n",
       "      <td>126</td>\n",
       "      <td>Love Avenue</td>\n",
       "      <td>Jake</td>\n",
       "      <td>Hughes</td>\n",
       "      <td>56</td>\n",
       "      <td>Lodger</td>\n",
       "      <td>Single</td>\n",
       "      <td>Male</td>\n",
       "      <td>Unemployed</td>\n",
       "      <td></td>\n",
       "      <td>Christian</td>\n",
       "      <td>55 - 59</td>\n",
       "      <td>Unemployed</td>\n",
       "    </tr>\n",
       "    <tr>\n",
       "      <th>1061</th>\n",
       "      <td>128</td>\n",
       "      <td>Love Avenue</td>\n",
       "      <td>Melanie</td>\n",
       "      <td>Poole</td>\n",
       "      <td>32</td>\n",
       "      <td>Lodger</td>\n",
       "      <td>Single</td>\n",
       "      <td>Female</td>\n",
       "      <td>Horticultural therapist</td>\n",
       "      <td></td>\n",
       "      <td>Methodist</td>\n",
       "      <td>30 - 34</td>\n",
       "      <td>Employed</td>\n",
       "    </tr>\n",
       "    <tr>\n",
       "      <th>1537</th>\n",
       "      <td>199</td>\n",
       "      <td>Love Avenue</td>\n",
       "      <td>Toby</td>\n",
       "      <td>John</td>\n",
       "      <td>24</td>\n",
       "      <td>Son</td>\n",
       "      <td>Single</td>\n",
       "      <td>Male</td>\n",
       "      <td>Administrator, arts</td>\n",
       "      <td></td>\n",
       "      <td>None</td>\n",
       "      <td>20 - 24</td>\n",
       "      <td>Employed</td>\n",
       "    </tr>\n",
       "    <tr>\n",
       "      <th>2395</th>\n",
       "      <td>7</td>\n",
       "      <td>Merlin Extension</td>\n",
       "      <td>Cheryl</td>\n",
       "      <td>Smith</td>\n",
       "      <td>40</td>\n",
       "      <td>Head</td>\n",
       "      <td>Divorced</td>\n",
       "      <td>Female</td>\n",
       "      <td>Industrial/product designer</td>\n",
       "      <td></td>\n",
       "      <td>None</td>\n",
       "      <td>40 - 44</td>\n",
       "      <td>Employed</td>\n",
       "    </tr>\n",
       "    <tr>\n",
       "      <th>3683</th>\n",
       "      <td>22</td>\n",
       "      <td>Morar Lane</td>\n",
       "      <td>Gail</td>\n",
       "      <td>Long</td>\n",
       "      <td>30</td>\n",
       "      <td>Head</td>\n",
       "      <td>Single</td>\n",
       "      <td>Female</td>\n",
       "      <td>Armed forces training and education officer</td>\n",
       "      <td></td>\n",
       "      <td>Muslim</td>\n",
       "      <td>30 - 34</td>\n",
       "      <td>Employed</td>\n",
       "    </tr>\n",
       "    <tr>\n",
       "      <th>4954</th>\n",
       "      <td>134</td>\n",
       "      <td>Virgofix Crescent</td>\n",
       "      <td>Derek</td>\n",
       "      <td>Poole</td>\n",
       "      <td>0</td>\n",
       "      <td>Son</td>\n",
       "      <td>Single (Minor)</td>\n",
       "      <td>Male</td>\n",
       "      <td>Child</td>\n",
       "      <td></td>\n",
       "      <td>Minor</td>\n",
       "      <td>00 - 04</td>\n",
       "      <td>Child</td>\n",
       "    </tr>\n",
       "    <tr>\n",
       "      <th>8220</th>\n",
       "      <td>29</td>\n",
       "      <td>Green Glens</td>\n",
       "      <td>Jeremy</td>\n",
       "      <td>Green-Morgan</td>\n",
       "      <td>20</td>\n",
       "      <td>Son</td>\n",
       "      <td>Single</td>\n",
       "      <td>Male</td>\n",
       "      <td>University Student</td>\n",
       "      <td></td>\n",
       "      <td>Christian</td>\n",
       "      <td>20 - 24</td>\n",
       "      <td>Student</td>\n",
       "    </tr>\n",
       "  </tbody>\n",
       "</table>\n",
       "</div>"
      ],
      "text/plain": [
       "      House Number             Street First Name       Surname  Age  \\\n",
       "1048           126        Love Avenue       Jake        Hughes   56   \n",
       "1061           128        Love Avenue    Melanie         Poole   32   \n",
       "1537           199        Love Avenue       Toby          John   24   \n",
       "2395             7   Merlin Extension     Cheryl         Smith   40   \n",
       "3683            22         Morar Lane       Gail          Long   30   \n",
       "4954           134  Virgofix Crescent      Derek         Poole    0   \n",
       "8220            29        Green Glens     Jeremy  Green-Morgan   20   \n",
       "\n",
       "     Relationship to Head of House  Marital Status  Gender  \\\n",
       "1048                        Lodger          Single    Male   \n",
       "1061                        Lodger          Single  Female   \n",
       "1537                           Son          Single    Male   \n",
       "2395                          Head        Divorced  Female   \n",
       "3683                          Head          Single  Female   \n",
       "4954                           Son  Single (Minor)    Male   \n",
       "8220                           Son          Single    Male   \n",
       "\n",
       "                                       Occupation Infirmity   Religion  \\\n",
       "1048                                   Unemployed            Christian   \n",
       "1061                      Horticultural therapist            Methodist   \n",
       "1537                          Administrator, arts                 None   \n",
       "2395                  Industrial/product designer                 None   \n",
       "3683  Armed forces training and education officer               Muslim   \n",
       "4954                                        Child                Minor   \n",
       "8220                           University Student            Christian   \n",
       "\n",
       "      Age_Grp Employment Category  \n",
       "1048  55 - 59          Unemployed  \n",
       "1061  30 - 34            Employed  \n",
       "1537  20 - 24            Employed  \n",
       "2395  40 - 44            Employed  \n",
       "3683  30 - 34            Employed  \n",
       "4954  00 - 04               Child  \n",
       "8220  20 - 24             Student  "
      ]
     },
     "execution_count": 59,
     "metadata": {},
     "output_type": "execute_result"
    }
   ],
   "source": [
    "sd[sd['Infirmity'] == ' ']"
   ]
  },
  {
   "cell_type": "code",
   "execution_count": 60,
   "id": "f7c30fe3",
   "metadata": {},
   "outputs": [],
   "source": [
    "#No information can be gotten from other columns, hence I will convert them all to unknown\n",
    "\n",
    "sd.loc[sd['Infirmity'] == ' ', 'Infirmity'] = 'Unknown'"
   ]
  },
  {
   "cell_type": "markdown",
   "id": "b9d2ca76",
   "metadata": {},
   "source": [
    "### Analysis"
   ]
  },
  {
   "cell_type": "markdown",
   "id": "9c964c50",
   "metadata": {},
   "source": [
    "#### Birth Rate and Death Rate"
   ]
  },
  {
   "cell_type": "markdown",
   "id": "e12119e5",
   "metadata": {},
   "source": [
    "I will calculate to seee a trend in the birth rate. but it wil be difficult to compute the death rate, so I will only use the difference in age bands above 65 years,  as a shrinkage in the population is more likely to be caused by death due to aging"
   ]
  },
  {
   "cell_type": "code",
   "execution_count": 61,
   "id": "c19419ad",
   "metadata": {},
   "outputs": [
    {
     "data": {
      "text/plain": [
       "11.245491194568215"
      ]
     },
     "execution_count": 61,
     "metadata": {},
     "output_type": "execute_result"
    }
   ],
   "source": [
    "# Current birth rate\n",
    "# I will calculate by dividing number of birth in the year i.e children aged 0 by the number of population * 1000\n",
    "newborn = sd[sd['Age']== 0]\n",
    "birth_rate = (len(newborn)/len(sd)) * 1000\n",
    "birth_rate"
   ]
  },
  {
   "cell_type": "code",
   "execution_count": 62,
   "id": "e9c8531d",
   "metadata": {},
   "outputs": [
    {
     "data": {
      "text/plain": [
       "14.671030357747432"
      ]
     },
     "execution_count": 62,
     "metadata": {},
     "output_type": "execute_result"
    }
   ],
   "source": [
    "# previous birth rate - 5 years ago\n",
    "# I will calculate by dividing number of birth 5 years ag0 i.e children aged 5 by the number of estimated population * 1000\n",
    "age_5 = sd[sd['Age']== 5]\n",
    "prev_birth_rate = (len(age_5)/len(sd[sd['Age']  >= 5])) * 1000 # exclude children that were not yet given birth to then\n",
    "prev_birth_rate"
   ]
  },
  {
   "cell_type": "code",
   "execution_count": 63,
   "id": "85b783ac",
   "metadata": {},
   "outputs": [
    {
     "data": {
      "text/plain": [
       "16.51578174700269"
      ]
     },
     "execution_count": 63,
     "metadata": {},
     "output_type": "execute_result"
    }
   ],
   "source": [
    "# previous birth rate - 10 years ago\n",
    "# I will calculate by dividing number of birth 10 years ago i.e children aged 10 by the number of estimated population * 1000\n",
    "age_10 = sd[sd['Age']== 10]\n",
    "prev_birth_rate = (len(age_10)/len(sd[sd['Age']  >= 10])) * 1000  # exclude children that were not yet given birth to then\n",
    "prev_birth_rate"
   ]
  },
  {
   "cell_type": "code",
   "execution_count": 64,
   "id": "5c04e7b7",
   "metadata": {
    "scrolled": true
   },
   "outputs": [
    {
     "data": {
      "text/plain": [
       "Age   -8.805432\n",
       "dtype: float64"
      ]
     },
     "execution_count": 64,
     "metadata": {},
     "output_type": "execute_result"
    }
   ],
   "source": [
    "# I will compute the diff in age using the groupby syntax from the pandas documentation\n",
    "#\n",
    "sd.loc[sd['Age_Grp'] == '100+', 'Age_Grp'] = 'Above 99' # changed to aid arrangement of the Age_Grp\n",
    "age = sd[['Age_Grp','Age']]\n",
    "agegrp_count = age.groupby(['Age_Grp']).count() #To do a count of age groups\n",
    "\n",
    "diff_age = agegrp_count.diff() #the diff in the age grps\n",
    "diff_age\n",
    "\n",
    "death_rate =((diff_age[13:21].sum()/5)/len(sd))*1000 # / by 5 to get the annual rate\n",
    "death_rate"
   ]
  },
  {
   "cell_type": "markdown",
   "id": "e4e6125a",
   "metadata": {},
   "source": [
    "#### Occupancy Rate\n",
    "\n",
    "\n"
   ]
  },
  {
   "cell_type": "code",
   "execution_count": 65,
   "id": "1b575d38",
   "metadata": {},
   "outputs": [],
   "source": [
    "# Create a concatenated address column to do a count of people living in the same household\n",
    "sd['Address']  =  sd['House Number'].astype(str) + \" \" + sd['Street']"
   ]
  },
  {
   "cell_type": "code",
   "execution_count": 66,
   "id": "3dbe769b",
   "metadata": {},
   "outputs": [],
   "source": [
    "sd['house_occupancy'] = sd.groupby('Address')['Address'].transform('count') #to do a count of people living in the same household"
   ]
  },
  {
   "cell_type": "code",
   "execution_count": 67,
   "id": "5159432a",
   "metadata": {},
   "outputs": [],
   "source": [
    "# I will add a column to help categorize the occupancy rate which I will use for further analysis\n",
    "def Occupancy_No (occupancy):\n",
    "    if occupancy == 1 :\n",
    "        return \"1 Person\"\n",
    "    elif occupancy == 2:\n",
    "        return \"2 People\"\n",
    "    elif occupancy == 3:\n",
    "        return \"3 People\"\n",
    "    elif occupancy == 4:\n",
    "        return \"4 People\"\n",
    "    else:\n",
    "        return \"5 or More People\"\n",
    "Occu  = [Occupancy_No(i) for i in sd['house_occupancy']]\n",
    "sd['Occupancy Group'] = Occu\n"
   ]
  },
  {
   "cell_type": "code",
   "execution_count": 68,
   "id": "b153b392",
   "metadata": {},
   "outputs": [
    {
     "name": "stdout",
     "output_type": "stream",
     "text": [
      "Number of households in the town are  3047\n"
     ]
    }
   ],
   "source": [
    "# to enable me use the count made above for  further calculations\n",
    "new_occu = sd.drop_duplicates(subset = ['Address'])\n",
    "print ('Number of households in the town are ', len(new_occu)) # total numner of households\n",
    "\n",
    "# https://pandas.pydata.org/docs/reference/api/pandas.DataFrame.drop_duplicates.html"
   ]
  },
  {
   "cell_type": "code",
   "execution_count": 69,
   "id": "9d297baf",
   "metadata": {},
   "outputs": [
    {
     "name": "stdout",
     "output_type": "stream",
     "text": [
      "Average Occupancy Rate is  3.0935346242205446\n"
     ]
    }
   ],
   "source": [
    "# average number of people living in a household\n",
    "occupancy_rate = new_occu['house_occupancy'].mean()\n",
    "print('Average Occupancy Rate is ', occupancy_rate)"
   ]
  },
  {
   "cell_type": "code",
   "execution_count": 70,
   "id": "73530706",
   "metadata": {},
   "outputs": [
    {
     "data": {
      "text/plain": [
       "587"
      ]
     },
     "execution_count": 70,
     "metadata": {},
     "output_type": "execute_result"
    }
   ],
   "source": [
    "# Households with 5 or more people will be classified as overoccupied\n",
    "overoccupied_household =len( new_occu[new_occu['Occupancy Group'] == '5 or More People'])\n",
    "overoccupied_household"
   ]
  },
  {
   "cell_type": "code",
   "execution_count": 71,
   "id": "ce0507d3",
   "metadata": {},
   "outputs": [],
   "source": [
    "# People living in over occupied households\n",
    "overoccupied = sd[sd['Occupancy Group'] == '5 or More People']"
   ]
  },
  {
   "cell_type": "code",
   "execution_count": 72,
   "id": "39e77232",
   "metadata": {},
   "outputs": [
    {
     "data": {
      "text/plain": [
       "40.982389136431145"
      ]
     },
     "execution_count": 72,
     "metadata": {},
     "output_type": "execute_result"
    }
   ],
   "source": [
    "percent_overoccupied  = (len(overoccupied)/len(sd)) *100\n",
    "percent_overoccupied"
   ]
  },
  {
   "cell_type": "code",
   "execution_count": 73,
   "id": "aeed1539",
   "metadata": {},
   "outputs": [
    {
     "data": {
      "text/plain": [
       "[Text(0.5, 1.0, 'Household Occupancy Rate')]"
      ]
     },
     "execution_count": 73,
     "metadata": {},
     "output_type": "execute_result"
    },
    {
     "data": {
      "image/png": "[encoded data removed]",
      "text/plain": [
       "<Figure size 640x480 with 1 Axes>"
      ]
     },
     "metadata": {},
     "output_type": "display_data"
    }
   ],
   "source": [
    "sns.countplot( x = 'Occupancy Group', data = sd ).set(title = 'Household Occupancy Rate')"
   ]
  },
  {
   "cell_type": "code",
   "execution_count": 74,
   "id": "4f2fe82b",
   "metadata": {},
   "outputs": [
    {
     "data": {
      "text/plain": [
       "255.0788245279016"
      ]
     },
     "execution_count": 74,
     "metadata": {},
     "output_type": "execute_result"
    }
   ],
   "source": [
    "#To calculate the number of houses needed in the town. I will exclude minors as they cannot live on their own \n",
    "sufficient_houses  = (len(overoccupied[overoccupied['Marital Status'] != 'Single (Minor)']))/occupancy_rate\n",
    " \n",
    "\n",
    "no_of_houses_needed = sufficient_houses - overoccupied_household\n",
    "\n",
    "no_of_houses_needed"
   ]
  },
  {
   "cell_type": "markdown",
   "id": "b3276296",
   "metadata": {},
   "source": [
    "#### Divorce and Marriage Rates"
   ]
  },
  {
   "cell_type": "code",
   "execution_count": 75,
   "id": "d9171653",
   "metadata": {},
   "outputs": [],
   "source": [
    "# Calculate number of people that are married and divorced\n",
    "# I will assign the data containing married and divorced people to two new variables\n",
    "married = sd[sd['Marital Status'] == 'Married']\n",
    "divorced = sd[sd['Marital Status'] == 'Divorced']"
   ]
  },
  {
   "cell_type": "code",
   "execution_count": 76,
   "id": "262744b4",
   "metadata": {},
   "outputs": [
    {
     "name": "stdout",
     "output_type": "stream",
     "text": [
      "Divorce Rate is =  57.07617228941227\n",
      "Marriage Rate is =  127.5726713346064\n",
      "Divorce to Marriage Ratio =  0.4474012474012474\n"
     ]
    }
   ],
   "source": [
    "# We can see that the number of female divorcees are higher than male suggesting that some males leave after divorce.\n",
    "# I will base the divorce rate calculation on the number of females since they are less likely to leave the town\n",
    "\n",
    "divorce_rate=(len(divorced[divorced['Gender'] == 'Female'])/len (sd)) * 1000\n",
    "\n",
    "\n",
    "print('Divorce Rate is = ', divorce_rate)\n",
    "\n",
    " \n",
    "marriage_rate = (len(married)/2)/len(sd) * 1000\n",
    "\n",
    "\n",
    "print('Marriage Rate is = ',marriage_rate)\n",
    "\n",
    "\n",
    "divorce_to_marriage =( len(divorced[divorced['Gender'] == 'Female'] ) / (len(married)/2) )\n",
    "\n",
    "print('Divorce to Marriage Ratio = ', divorce_to_marriage)"
   ]
  },
  {
   "cell_type": "markdown",
   "id": "45d8573a",
   "metadata": {},
   "source": [
    "#### Emmigration Rate"
   ]
  },
  {
   "cell_type": "markdown",
   "id": "bb5382b3",
   "metadata": {},
   "source": [
    "#### Migration by Divorce"
   ]
  },
  {
   "cell_type": "code",
   "execution_count": 77,
   "id": "f2e24557",
   "metadata": {},
   "outputs": [
    {
     "name": "stdout",
     "output_type": "stream",
     "text": [
      "potential marital emmigration rate in the town is -22.809251007850627\n"
     ]
    }
   ],
   "source": [
    "# I will use the number of male divorcees who might have left the town to compute the no of pottential emmigrant\n",
    "marital_emmigration = -(len(divorced[divorced['Gender'] == 'Female']) - len(divorced[divorced['Gender'] == 'Male'])) /len(sd) * 1000\n",
    "print('potential marital emmigration rate in the town is', marital_emmigration)"
   ]
  },
  {
   "cell_type": "markdown",
   "id": "d1e8ed92",
   "metadata": {},
   "source": [
    "#### Lodgers and Visitors Immigration"
   ]
  },
  {
   "cell_type": "code",
   "execution_count": 78,
   "id": "a9545092",
   "metadata": {},
   "outputs": [],
   "source": [
    "# computing people who are living in a house temporarily\n",
    "temp = sd[(sd['Relationship to Head of House']== 'Lodger') | (sd['Relationship to Head of House']== 'Visitor')] \n",
    " "
   ]
  },
  {
   "cell_type": "code",
   "execution_count": 79,
   "id": "de92f4e7",
   "metadata": {
    "scrolled": true
   },
   "outputs": [
    {
     "data": {
      "text/plain": [
       "Single      363\n",
       "Divorced    106\n",
       "Widowed       6\n",
       "Name: Marital Status, dtype: int64"
      ]
     },
     "execution_count": 79,
     "metadata": {},
     "output_type": "execute_result"
    }
   ],
   "source": [
    "temp['Marital Status'].value_counts() # Who are they? Its okay if they are single, \n",
    "# but divorced will suggest they only moved from their divorced spouse to live elsewhere"
   ]
  },
  {
   "cell_type": "code",
   "execution_count": 80,
   "id": "bce749e6",
   "metadata": {},
   "outputs": [
    {
     "data": {
      "text/plain": [
       "Employed      401\n",
       "Student        41\n",
       "Unemployed     33\n",
       "Name: Employment Category, dtype: int64"
      ]
     },
     "execution_count": 80,
     "metadata": {},
     "output_type": "execute_result"
    }
   ],
   "source": [
    "temp['Employment Category'].value_counts() # 10% of them are students, they are likely to stay till they graduate"
   ]
  },
  {
   "cell_type": "code",
   "execution_count": 81,
   "id": "c7775903",
   "metadata": {},
   "outputs": [
    {
     "name": "stdout",
     "output_type": "stream",
     "text": [
      "potential immigration rate by temporary residents in the town is 7.829408020369192\n"
     ]
    }
   ],
   "source": [
    "# I will assume another 10% will move in to the town more permanently making 20%\n",
    "temp_immigration = (len(temp[temp['Marital Status'] != 'Divorced']) * 0.2)/len(sd) * 1000\n",
    "print('potential immigration rate by temporary residents in the town is', temp_immigration)"
   ]
  },
  {
   "cell_type": "code",
   "execution_count": 82,
   "id": "bb873427",
   "metadata": {
    "scrolled": false
   },
   "outputs": [
    {
     "data": {
      "text/plain": [
       "Head                342\n",
       "Husband             102\n",
       "Son                  76\n",
       "None                 69\n",
       "Daughter             58\n",
       "Lodger               51\n",
       "Partner              34\n",
       "Wife                 30\n",
       "Sibling               7\n",
       "Cousin                5\n",
       "Visitor               1\n",
       "Adopted Daughter      1\n",
       "Name: Relationship to Head of House, dtype: int64"
      ]
     },
     "execution_count": 82,
     "metadata": {},
     "output_type": "execute_result"
    }
   ],
   "source": [
    "#Earlier from the age pyramid, I noticed a bulge in the 35 to 39 age band.  I want to have a better view of people in the age band\n",
    "# So I will first check their relationship to the head of house\n",
    "potential_midage_migrant = sd[sd['Age_Grp'] == '35 - 39']\n",
    "potential_midage_migrant['Relationship to Head of House'].value_counts()"
   ]
  },
  {
   "cell_type": "code",
   "execution_count": 83,
   "id": "eaebe526",
   "metadata": {},
   "outputs": [
    {
     "data": {
      "text/plain": [
       "Age    133.0\n",
       "dtype: float64"
      ]
     },
     "execution_count": 83,
     "metadata": {},
     "output_type": "execute_result"
    }
   ],
   "source": [
    "# Earlier from the age pyramid, I noticed a bulge in the 35 to 39 age band. So i will check this diff and see if it \n",
    "# corresponds to any of the numbers in the potential midage migrant to have a better understanding of why they moved in to the town\n",
    "diff_age[7:8].sum() #diff_age used group by and count to get diff in age band"
   ]
  },
  {
   "cell_type": "code",
   "execution_count": 84,
   "id": "0a8e7559",
   "metadata": {},
   "outputs": [
    {
     "name": "stdout",
     "output_type": "stream",
     "text": [
      "potential marital immigration  Age    14.109909\n",
      "dtype: float64\n"
     ]
    }
   ],
   "source": [
    "# the difference of 133 above is close to the sum of husbands and wives of the heads of house(132),\n",
    "# so I will assume they moved in to the town when they got married\n",
    "marital_immigrant =((diff_age[7:8].sum())/len(sd))*1000 #diff_age used group by and count to get diff in age band\n",
    "print('potential marital immigration ', marital_immigrant)"
   ]
  },
  {
   "cell_type": "code",
   "execution_count": 85,
   "id": "fedd1f3b",
   "metadata": {
    "scrolled": true
   },
   "outputs": [
    {
     "name": "stdout",
     "output_type": "stream",
     "text": [
      "potential student emmigrant rate is  Age   -12.094208\n",
      "dtype: float64\n"
     ]
    }
   ],
   "source": [
    "# students moving out of the town calculated using the diff in age band 25 - 29(graduation age range) and 20 - 24(university age range)\n",
    "student_emmigrant =((diff_age[5:6].sum())/len(sd))*1000 #diff_age used group by and count to get diff in age band\n",
    "print('potential student emmigrant rate is ', student_emmigrant)"
   ]
  },
  {
   "cell_type": "code",
   "execution_count": 86,
   "id": "e8163e34",
   "metadata": {},
   "outputs": [
    {
     "name": "stdout",
     "output_type": "stream",
     "text": [
      "potential migration rate is  Age   -12.964142\n",
      "dtype: float64\n"
     ]
    }
   ],
   "source": [
    "#potential migration rate is calculated by subtracting the emmigration rate from the immigration rate\n",
    "\n",
    "potential_immigration = temp_immigration + marital_immigrant\n",
    "\n",
    "potential_emmigration = marital_emmigration + student_emmigrant\n",
    "\n",
    "potential_migration_rate = potential_immigration + potential_emmigration #emmigration is already in negative\n",
    "\n",
    "print('potential migration rate is ', potential_migration_rate)"
   ]
  },
  {
   "cell_type": "code",
   "execution_count": 87,
   "id": "743fcee1",
   "metadata": {},
   "outputs": [
    {
     "data": {
      "text/plain": [
       "Age   -10.524082\n",
       "dtype: float64"
      ]
     },
     "execution_count": 87,
     "metadata": {},
     "output_type": "execute_result"
    }
   ],
   "source": [
    "# Potential population increase/decrease rate\n",
    "\n",
    "pop_change = birth_rate + death_rate + potential_migration_rate\n",
    "pop_change"
   ]
  },
  {
   "cell_type": "markdown",
   "id": "ab5d7814",
   "metadata": {
    "collapsed": true
   },
   "source": [
    "#### Employment Rate"
   ]
  },
  {
   "cell_type": "code",
   "execution_count": 88,
   "id": "9511bd9d",
   "metadata": {},
   "outputs": [
    {
     "data": {
      "text/plain": [
       "578"
      ]
     },
     "execution_count": 88,
     "metadata": {},
     "output_type": "execute_result"
    }
   ],
   "source": [
    "#Number of unemployed people in the town\n",
    "unemployed = sd[sd['Employment Category'] == 'Unemployed']\n",
    "len(unemployed)"
   ]
  },
  {
   "cell_type": "code",
   "execution_count": 89,
   "id": "95dbd65f",
   "metadata": {},
   "outputs": [
    {
     "name": "stdout",
     "output_type": "stream",
     "text": [
      "Unemployment rate on total population is 6.131975387226819\n"
     ]
    }
   ],
   "source": [
    "# Unemployment rate comparing with the whole population\n",
    "unemployment_rate = len(unemployed)/len(sd) * 100\n",
    "\n",
    "print('Unemployment rate on total population is', unemployment_rate)"
   ]
  },
  {
   "cell_type": "code",
   "execution_count": 90,
   "id": "d261693f",
   "metadata": {},
   "outputs": [
    {
     "name": "stdout",
     "output_type": "stream",
     "text": [
      "Unemployment rate on employable population is 8.263045032165833\n"
     ]
    }
   ],
   "source": [
    "#Unemployment rate comparing with only employable population excluding the minors\n",
    "\n",
    "employable = sd[sd['Age'] >= 18]\n",
    "unemployment_rate = len(unemployed)/len(employable) * 100\n",
    "print('Unemployment rate on employable population is', unemployment_rate)"
   ]
  },
  {
   "cell_type": "code",
   "execution_count": 91,
   "id": "7892b5e1",
   "metadata": {},
   "outputs": [
    {
     "data": {
      "text/plain": [
       "<seaborn.axisgrid.FacetGrid at 0x178dcf0a2e0>"
      ]
     },
     "execution_count": 91,
     "metadata": {},
     "output_type": "execute_result"
    },
    {
     "data": {
      "image/png": "[encoded data removed]",
      "text/plain": [
       "<Figure size 500x500 with 1 Axes>"
      ]
     },
     "metadata": {},
     "output_type": "display_data"
    }
   ],
   "source": [
    "#Plot of the unemployment by age groups to see if the unemployment is more concentrated on some age groups\n",
    "unemployed = unemployed.sort_values(by='Age_Grp')\n",
    "sns.displot( x = 'Age_Grp', data = unemployed).set(title = 'Unemployment by Age Groups').set_xticklabels( rotation=90)"
   ]
  },
  {
   "cell_type": "code",
   "execution_count": 92,
   "id": "63466374",
   "metadata": {},
   "outputs": [
    {
     "name": "stdout",
     "output_type": "stream",
     "text": [
      "545\n"
     ]
    }
   ],
   "source": [
    "# As seen above the unemployment is more concentrated in the middle age. \n",
    "# I will like to know the number of people who still have some work years left\n",
    "# this will determine those who might need to be trained\n",
    "\n",
    "#First I will use the minimum age of those who are retired as a benchmark.\n",
    "# Any one below the minimum retirement age should be trained to enable them work\n",
    "retired = sd[sd['Employment Category'] == 'Retired']\n",
    "min_work_age = retired['Age'].min()\n",
    "\n",
    "trainable_people = unemployed[unemployed['Age'] < min_work_age ]\n",
    "print(len(trainable_people))"
   ]
  },
  {
   "cell_type": "code",
   "execution_count": 93,
   "id": "afc0e3f4",
   "metadata": {},
   "outputs": [
    {
     "data": {
      "text/plain": [
       "94.29065743944636"
      ]
     },
     "execution_count": 93,
     "metadata": {},
     "output_type": "execute_result"
    }
   ],
   "source": [
    "# what percentage of the unemployed population is that\n",
    "\n",
    "trainable_percent = len(trainable_people)/len(unemployed) * 100\n",
    "trainable_percent"
   ]
  },
  {
   "cell_type": "code",
   "execution_count": 94,
   "id": "397be7b4",
   "metadata": {},
   "outputs": [
    {
     "name": "stdout",
     "output_type": "stream",
     "text": [
      "0.47176554681915656\n",
      "2.030021443888492\n",
      "3.5882773409578266\n"
     ]
    }
   ],
   "source": [
    "#Assuming 100%, 80% or 60% the trained people become employed after the training, how will it reduce unemployment\n",
    "\n",
    "assumption = [1, 0.8,0.6]\n",
    "for i in assumption:\n",
    "    new_unemploy = (len(unemployed) - (len(trainable_people)* i ))/len(employable) *100\n",
    "    print(new_unemploy)\n"
   ]
  },
  {
   "cell_type": "markdown",
   "id": "34ebdf2d",
   "metadata": {},
   "source": [
    "#### Commuters"
   ]
  },
  {
   "cell_type": "code",
   "execution_count": 95,
   "id": "64f7058b",
   "metadata": {},
   "outputs": [
    {
     "name": "stdout",
     "output_type": "stream",
     "text": [
      "823 people regularly commute and they make up 9.0 % of the population\n"
     ]
    }
   ],
   "source": [
    "# One thing is sure, all unversity students in the town are commuters since there is no university in the town\n",
    "# Also anyone likely to work in a university is a commuter\n",
    "\n",
    "university_students = sd[(sd['Occupation'].str.contains('University', case = False)) | (sd['Occupation'].str.contains('PhD', case = False))]\n",
    "professors = sd[(sd['Occupation'].str.contains('Professor', case = False))]\n",
    "lecturers = sd[(sd['Occupation'].str.contains('lecturer higher education', case = False))]\n",
    "researchers = sd[(sd['Occupation'].str.contains('Research', case = False)) ]\n",
    "\n",
    "                  \n",
    "potential_commuters = len(university_students) + len(professors) + len(lecturers) + len(researchers)\n",
    "\n",
    "percent_commute = potential_commuters/len(sd) * 100\n",
    "print(potential_commuters, 'people regularly commute and they make up', round(percent_commute, 0), '% of the population')\n"
   ]
  },
  {
   "cell_type": "markdown",
   "id": "a07f2607",
   "metadata": {},
   "source": [
    "#### Number of Houses per street"
   ]
  },
  {
   "cell_type": "code",
   "execution_count": 97,
   "id": "c6adcdfd",
   "metadata": {},
   "outputs": [
    {
     "data": {
      "text/plain": [
       "<seaborn.axisgrid.FacetGrid at 0x178e50e2d60>"
      ]
     },
     "execution_count": 97,
     "metadata": {},
     "output_type": "execute_result"
    },
    {
     "data": {
      "image/png": "[encoded data removed]",
      "text/plain": [
       "<Figure size 667x500 with 1 Axes>"
      ]
     },
     "metadata": {},
     "output_type": "display_data"
    }
   ],
   "source": [
    "street_counts = new_occu['Street'].value_counts()\n",
    "top_20_streets = street_counts.nlargest(20).index #create a list with the top 30 streets\n",
    "only_top_20 = new_occu[new_occu['Street'].isin(top_20_streets)] \n",
    "sns.displot(only_top_20, x = 'Street', hue = 'Occupancy Group').set_xticklabels(rotation=90) \n"
   ]
  },
  {
   "cell_type": "markdown",
   "id": "1fcf0a2e",
   "metadata": {},
   "source": [
    "To calculate average number of houses per streets, I will create an new dataset that counts the number of houses and groups by street, then I will calculate "
   ]
  },
  {
   "cell_type": "code",
   "execution_count": 98,
   "id": "35105e84",
   "metadata": {},
   "outputs": [
    {
     "name": "stderr",
     "output_type": "stream",
     "text": [
      "C:\\Users\\sarah\\AppData\\Local\\Temp\\ipykernel_20276\\786403116.py:1: SettingWithCopyWarning: \n",
      "A value is trying to be set on a copy of a slice from a DataFrame.\n",
      "Try using .loc[row_indexer,col_indexer] = value instead\n",
      "\n",
      "See the caveats in the documentation: https://pandas.pydata.org/pandas-docs/stable/user_guide/indexing.html#returning-a-view-versus-a-copy\n",
      "  new_occu['House_Count'] = new_occu.groupby('Street')['Street'].transform('count') #to do a count of people living in the same household\n"
     ]
    }
   ],
   "source": [
    "\n",
    "new_occu['House_Count'] = new_occu.groupby('Street')['Street'].transform('count') #to do a count of people living in the same household"
   ]
  },
  {
   "cell_type": "code",
   "execution_count": 99,
   "id": "b983017c",
   "metadata": {},
   "outputs": [
    {
     "name": "stdout",
     "output_type": "stream",
     "text": [
      "There are 105 streets in the town, with an average of 29.0 households per streets\n",
      "34 streets have more than 29.0 households\n",
      "32.0 % streets are above the average households number\n"
     ]
    }
   ],
   "source": [
    "#I will drop the duplicates in the street data to enable me use the data for calculation \n",
    "street_house_count = new_occu.drop_duplicates(subset = ['Street'])\n",
    "\n",
    "#The number of streets in the town\n",
    "no_of_streets = len(street_house_count)\n",
    "\n",
    "#Average number of houses in the town\n",
    "av_households = street_house_count['House_Count'].mean()\n",
    "print('There are', no_of_streets , 'streets in the town, with an average of', round(av_households,0), 'households per streets')\n",
    "\n",
    "#Number of streets having above the average households number\n",
    "dense_pop_streets = street_house_count[street_house_count['House_Count'] >= 29]\n",
    "print(len(dense_pop_streets), 'streets have more than', round(av_households,0), 'households')\n",
    "\n",
    "#percentage densely populated streets\n",
    "\n",
    "percent_dense = len(dense_pop_streets)/no_of_streets *100\n",
    "print(round(percent_dense, 0),'% streets are above the average households number')"
   ]
  },
  {
   "cell_type": "markdown",
   "id": "4540dfaf",
   "metadata": {},
   "source": [
    "#### Infirmity"
   ]
  },
  {
   "cell_type": "code",
   "execution_count": 100,
   "id": "a0e4dd8c",
   "metadata": {},
   "outputs": [
    {
     "data": {
      "text/plain": [
       "None                   9355\n",
       "Physical Disability      22\n",
       "Blind                    11\n",
       "Mental Disability         9\n",
       "Unknown Infection         9\n",
       "Disabled                  7\n",
       "Unknown                   7\n",
       "Deaf                      6\n",
       "Name: Infirmity, dtype: int64"
      ]
     },
     "execution_count": 100,
     "metadata": {},
     "output_type": "execute_result"
    }
   ],
   "source": [
    "sd['Infirmity'].value_counts()"
   ]
  },
  {
   "cell_type": "code",
   "execution_count": 101,
   "id": "5b5a865d",
   "metadata": {},
   "outputs": [
    {
     "name": "stdout",
     "output_type": "stream",
     "text": [
      "Infirmity Rate is =  0.7532357309569276\n"
     ]
    }
   ],
   "source": [
    "#calculate infirmity rate\n",
    "\n",
    "infirm = sd[sd['Infirmity'] != 'None']\n",
    "infirmity_rate = len(infirm)/len(sd) *100\n",
    "print('Infirmity Rate is = ', infirmity_rate )"
   ]
  },
  {
   "cell_type": "markdown",
   "id": "5a05b113",
   "metadata": {},
   "source": [
    "#### Religion"
   ]
  },
  {
   "cell_type": "code",
   "execution_count": 102,
   "id": "c9e0f3fa",
   "metadata": {},
   "outputs": [
    {
     "data": {
      "text/plain": [
       "None         3118\n",
       "Minor        2431\n",
       "Christian    2015\n",
       "Catholic     1007\n",
       "Methodist     583\n",
       "Muslim        118\n",
       "Unknown        59\n",
       "Sikh           56\n",
       "Jewish         30\n",
       "Buddist         3\n",
       "Bahai           2\n",
       "Private         1\n",
       "Baptist         1\n",
       "Agnostic        1\n",
       "Orthodoxy       1\n",
       "Name: Religion, dtype: int64"
      ]
     },
     "execution_count": 102,
     "metadata": {},
     "output_type": "execute_result"
    }
   ],
   "source": [
    "sd['Religion'].value_counts()"
   ]
  },
  {
   "cell_type": "code",
   "execution_count": 103,
   "id": "6c9bb333",
   "metadata": {},
   "outputs": [
    {
     "name": "stdout",
     "output_type": "stream",
     "text": [
      "45.0 % of the population are not religiously inclined\n"
     ]
    }
   ],
   "source": [
    "\n",
    "no_religion = sd[sd['Religion'] == 'None'] # People not religiously inclined\n",
    "total_religion = sd[sd['Religion'] != 'Minor'] #Minors do not have religion, so I will exclude them\n",
    "\n",
    "# percentage of peeople without a religion\n",
    "percent_no_rel = len(no_religion)/len(total_religion)* 100\n",
    "print(round(percent_no_rel, 0), '% of the population are not religiously inclined')"
   ]
  },
  {
   "cell_type": "code",
   "execution_count": 104,
   "id": "1c2a69da",
   "metadata": {},
   "outputs": [
    {
     "name": "stdout",
     "output_type": "stream",
     "text": [
      "Average age of methodists is 45.0\n",
      "Median age of methodists is 43.0\n"
     ]
    },
    {
     "data": {
      "text/plain": [
       "Single      260\n",
       "Married     202\n",
       "Divorced     90\n",
       "Widowed      31\n",
       "Name: Marital Status, dtype: int64"
      ]
     },
     "execution_count": 104,
     "metadata": {},
     "output_type": "execute_result"
    }
   ],
   "source": [
    "# The methodists are the next highest in count after catholics. Do they need a church?\n",
    "\n",
    "#I will calculate the average age of the methodists to see if they are in the middle age\n",
    "# and there is likelihood of them having children who might acquire their parents' religion\n",
    "\n",
    "methodists = sd[sd['Religion'] == 'Methodist']\n",
    "\n",
    "print('Average age of methodists is', round(methodists['Age'].mean(), 0))\n",
    "print('Median age of methodists is', round(methodists['Age'].median(), 0))\n",
    "methodists['Marital Status'].value_counts()"
   ]
  },
  {
   "cell_type": "code",
   "execution_count": 105,
   "id": "28f2f6c0",
   "metadata": {},
   "outputs": [
    {
     "data": {
      "text/plain": [
       "[Text(0.5, 1.0, 'Marital Status of Methodists by Age')]"
      ]
     },
     "execution_count": 105,
     "metadata": {},
     "output_type": "execute_result"
    },
    {
     "data": {
      "image/png": "[encoded data removed]",
      "text/plain": [
       "<Figure size 640x480 with 1 Axes>"
      ]
     },
     "metadata": {},
     "output_type": "display_data"
    }
   ],
   "source": [
    "sns.boxplot(data =methodists , x = 'Age', y = 'Marital Status' ).set(title = 'Marital Status of Methodists by Age')"
   ]
  },
  {
   "cell_type": "markdown",
   "id": "b0a2b22b",
   "metadata": {},
   "source": [
    "#### Bibliography\n",
    "\n",
    "Data to fish (2021) Convert a List to Pandas Dataframe (with examples). Available at: https://datatofish.com/list-to-dataframe/ [Accessed on 04/04/2023].  \n",
    "\n",
    "Diaz, A (2017) IN A PRISON FAR, FAR AWAY ‘Sith Lord’ lag whinges he cannot practice Star Wars religion inside as he is banned from wearing a hoodie. Available online:  https://www.thesun.co.uk/news/2511556/ [Accessed on 30/03/2023].  \n",
    "\n",
    "Pandas(2023) User Guide. Pandas. Available online: https://pandas.pydata.org/docs/user_guide/index.html. [Accessed on 20/03/2023]\n",
    "\n",
    "Wascom, M. (2022) API reference#, API reference - seaborn 0.12.2 documentation. Available at: https://seaborn.pydata.org/api.html [Accessed on 20/03/2023]. "
   ]
  },
  {
   "cell_type": "markdown",
   "id": "032300c6",
   "metadata": {},
   "source": [
    "The above references were used as guidelines for the codes generated. Also, I used the shortcut: Pressing Shift + Tab in most cases to undertand the syntax of the functions"
   ]
  }
 ],
 "metadata": {
  "kernelspec": {
   "display_name": "Python 3 (ipykernel)",
   "language": "python",
   "name": "python3"
  },
  "language_info": {
   "codemirror_mode": {
    "name": "ipython",
    "version": 3
   },
   "file_extension": ".py",
   "mimetype": "text/x-python",
   "name": "python",
   "nbconvert_exporter": "python",
   "pygments_lexer": "ipython3",
   "version": "3.9.13"
  }
 },
 "nbformat": 4,
 "nbformat_minor": 5
}
